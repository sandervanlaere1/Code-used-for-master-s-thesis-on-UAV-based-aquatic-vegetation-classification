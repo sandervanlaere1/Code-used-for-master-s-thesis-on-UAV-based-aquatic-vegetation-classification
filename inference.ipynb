{
 "cells": [
  {
   "cell_type": "code",
   "execution_count": 14,
   "id": "345e2c20",
   "metadata": {},
   "outputs": [],
   "source": [
    "from inference import get_model\n",
    "from roboflow import load_roboflow_api_key\n",
    "from roboflow import Roboflow\n",
    "from inference_sdk import InferenceConfiguration, InferenceHTTPClient"
   ]
  },
  {
   "cell_type": "code",
   "execution_count": 15,
   "id": "b2cfdada",
   "metadata": {},
   "outputs": [],
   "source": [
    "image = r\"C:\\Users\\Sander\\OneDrive - UGent\\Semester_2\\Masterproef\\Thesis_ML\\Roboflow\\Raw_October\\ROI_Patches\\F2_0058_patch_22.jpg\"\n",
    "model_ID = \"thesis-8gv3k/8\""
   ]
  },
  {
   "cell_type": "code",
   "execution_count": 19,
   "id": "a1d03b25",
   "metadata": {},
   "outputs": [],
   "source": [
    "client = InferenceHTTPClient(\n",
    "    api_url=\"http://localhost:9001\",\n",
    "    api_key=\"hWGMaLWQuYEv0meKTn6j\",\n",
    "    )"
   ]
  },
  {
   "cell_type": "code",
   "execution_count": 20,
   "id": "f333a3de",
   "metadata": {},
   "outputs": [
    {
     "data": {
      "text/plain": [
       "<inference_sdk.http.client.InferenceHTTPClient at 0x13af7c3a060>"
      ]
     },
     "execution_count": 20,
     "metadata": {},
     "output_type": "execute_result"
    }
   ],
   "source": [
    "config = InferenceConfiguration(confidence_threshold=0.5)\n",
    "client.configure(config)\n",
    "client.select_model(model_ID)"
   ]
  },
  {
   "cell_type": "code",
   "execution_count": null,
   "id": "5f908626",
   "metadata": {},
   "outputs": [],
   "source": [
    "prediction = client.infer(image)\n"
   ]
  }
 ],
 "metadata": {
  "kernelspec": {
   "display_name": "venv",
   "language": "python",
   "name": "python3"
  },
  "language_info": {
   "codemirror_mode": {
    "name": "ipython",
    "version": 3
   },
   "file_extension": ".py",
   "mimetype": "text/x-python",
   "name": "python",
   "nbconvert_exporter": "python",
   "pygments_lexer": "ipython3",
   "version": "3.12.7"
  }
 },
 "nbformat": 4,
 "nbformat_minor": 5
}
