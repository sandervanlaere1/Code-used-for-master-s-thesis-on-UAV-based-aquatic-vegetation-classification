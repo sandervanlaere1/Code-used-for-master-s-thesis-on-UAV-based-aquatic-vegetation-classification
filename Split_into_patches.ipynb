{
 "cells": [
  {
   "cell_type": "code",
   "execution_count": null,
   "metadata": {},
   "outputs": [],
   "source": [
    "import os\n",
    "import csv\n",
    "from PIL import Image\n",
    "\n",
    "# Configuration\n",
    "PATCH_SIZE = 128\n",
    "\n",
    "\n",
    "image_path = r\"C:\\Users\\Sander\\OneDrive - UGent\\Semester_2\\Masterproef\\Thesis_ML\\Roboflow\\Raw_July\\Testing data\\F24_0119_D.JPG\"\n",
    "output_dir = r\"C:\\Users\\Sander\\OneDrive - UGent\\Semester_2\\Masterproef\\Thesis_ML\\Roboflow\\Raw_July\\Testing data\\patches_F24_0119_D\"\n",
    "metadata_csv = r\"C:\\Users\\Sander\\OneDrive - UGent\\Semester_2\\Masterproef\\Thesis_ML\\Roboflow\\Raw_July\\Testing data\\metadata_F24_0119_D.csv\"  # output CSV with patch metadata\n",
    "\n",
    "# Simulatieparameters die je normaal per segment/image kan instellen\n",
    "segment_id = \"F24\"\n",
    "photo_id = \"0119\"\n",
    "flight_altitude = 35  # meter\n",
    "light_condition = \"partial shadow\"  # dit zou later via brightness kunnen\n",
    "\n",
    "# Laad de afbeelding\n",
    "image = Image.open(image_path)\n",
    "width, height = image.size\n",
    "\n",
    "# Maak outputmap aan\n",
    "os.makedirs(output_dir, exist_ok=True)\n",
    "\n",
    "# Initieer metadata\n",
    "metadata = []\n",
    "patch_id = 0\n",
    "\n",
    "# Define filtering bounds (e.g., keep patches between 1/5 and 3/5 of image width)\n",
    "x_min = width * 0.466\n",
    "x_max = width * 0.7\n",
    "\n",
    "for y in range(0, height, PATCH_SIZE):\n",
    "    for x in range(0, width, PATCH_SIZE):\n",
    "        if x + PATCH_SIZE > width or y + PATCH_SIZE > height:\n",
    "            continue\n",
    "        if x >= x_min and (x + PATCH_SIZE) <= x_max:\n",
    "            # Genereer patch\n",
    "            patch = image.crop((x, y, x + PATCH_SIZE, y + PATCH_SIZE))\n",
    "            # Genereer unieke naam: segment_fotonummer_patchID.jpg\n",
    "            patch_filename = f\"{segment_id}_{photo_id}_patch_{patch_id}.jpg\"\n",
    "            patch.save(os.path.join(output_dir, patch_filename))\n",
    "            # Voeg metadata toe\n",
    "            metadata.append([patch_filename, segment_id, photo_id, patch_id, x, y, flight_altitude, light_condition])\n",
    "            patch_id += 1\n",
    "\n",
    "# Schrijf metadata naar CSV\n",
    "with open(metadata_csv, \"w\", newline=\"\") as f:\n",
    "    writer = csv.writer(f)\n",
    "    writer.writerow([\"patch_filename\", \"segment\", \"photo_id\", \"patch_id\", \"x\", \"y\", \"altitude\", \"light_condition\"])\n",
    "    writer.writerows(metadata)"
   ]
  }
 ],
 "metadata": {
  "kernelspec": {
   "display_name": "venv",
   "language": "python",
   "name": "python3"
  },
  "language_info": {
   "codemirror_mode": {
    "name": "ipython",
    "version": 3
   },
   "file_extension": ".py",
   "mimetype": "text/x-python",
   "name": "python",
   "nbconvert_exporter": "python",
   "pygments_lexer": "ipython3",
   "version": "3.12.7"
  }
 },
 "nbformat": 4,
 "nbformat_minor": 2
}
