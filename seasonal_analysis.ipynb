{
 "cells": [
  {
   "cell_type": "code",
   "execution_count": 1,
   "id": "f3e37ee7",
   "metadata": {},
   "outputs": [],
   "source": [
    "import os\n",
    "import pandas as pd\n",
    "from roboflow import Roboflow\n",
    "import os\n",
    "import csv\n",
    "import numpy as np\n",
    "import pandas as pd\n",
    "from PIL import Image, ExifTags\n",
    "import shutil"
   ]
  },
  {
   "cell_type": "markdown",
   "id": "bc9b1098",
   "metadata": {},
   "source": [
    "## extract patches "
   ]
  },
  {
   "cell_type": "code",
   "execution_count": null,
   "id": "8ed2e5a8",
   "metadata": {},
   "outputs": [],
   "source": [
    "# === METADATA CREATION ===\n",
    "\n",
    "import os\n",
    "import csv\n",
    "import numpy as np\n",
    "import pandas as pd\n",
    "from PIL import Image, ExifTags\n",
    "import shutil\n",
    "\n",
    "# === CONFIGURATION ===\n",
    "SEASONS_RAW_DIR     = r\"C:\\Users\\Sander\\OneDrive - UGent\\Semester_2\\Masterproef\\Thesis_ML\\seasonal analysis\\October_raw\"\n",
    "OUTPUT_PATCH_DIR    = r\"C:\\Users\\Sander\\OneDrive - UGent\\Semester_2\\Masterproef\\Thesis_ML\\seasonal analysis\\Data_October\\Patches\"\n",
    "METADATA_CSV        = r\"C:\\Users\\Sander\\OneDrive - UGent\\Semester_2\\Masterproef\\Thesis_ML\\seasonal analysis\\Data_October\\metadata_October.csv\"\n",
    "\n",
    "PATCH_SIZE          = 128\n",
    "SEASON              = \"October\"\n",
    "\n",
    "# For each segment folder, a list of ROI fractions in the order of images in that folder\n",
    "ROI_FRAC_LIST_PER_SEGMENT = {\n",
    "    \"F1\": [\n",
    "      (0.440, 0.647), (0.440, 0.647), (0.440, 0.647),\n",
    "      (0.440, 0.647), (0.466, 0.621), (0.440, 0.621),\n",
    "      (0.440, 0.621), (0.440, 0.621), (0.440, 0.621),\n",
    "      (0.440, 0.621), (0.440, 0.621), (0.440, 0.621),\n",
    "      (0.414, 0.673)\n",
    "    ],\n",
    "    \"F2\": [\n",
    "      (0.466, 0.647), (0.466, 0.647), (0.466, 0.647),\n",
    "      (0.466, 0.647), (0.440, 0.595), (0.414, 0.569),\n",
    "      (0.414, 0.569), (0.414, 0.569), (0.440, 0.621),\n",
    "      (0.440, 0.621)\n",
    "    ],\n",
    "    \"F3\": [\n",
    "      (0.518, 0.777), (0.518, 0.777), (0.518, 0.777),\n",
    "      (0.518, 0.777), (0.466, 0.725), (0.466, 0.725),\n",
    "      (0.466, 0.673), (0.466, 0.647), (0.466, 0.647),\n",
    "      (0.466, 0.647), (0.466, 0.647), (0.466, 0.647),\n",
    "      (0.466, 0.647), (0.466, 0.699), (0.492, 0.725),\n",
    "      (0.492, 0.725)\n",
    "    ],\n",
    "    \"F8\": [\n",
    "      (0.414, 0.699), (0.414, 0.699), (0.414, 0.699),\n",
    "      (0.414, 0.699), (0.414, 0.699)\n",
    "    ],\n",
    "    \"F9\": [\n",
    "      (0.466, 0.725), (0.466, 0.725), (0.466, 0.725),\n",
    "      (0.414, 0.725), (0.362, 0.673), (0.362, 0.673),\n",
    "      (0.362, 0.673), (0.362, 0.673), (0.362, 0.673),\n",
    "      (0.466, 0.725), (0.466, 0.725), (0.466, 0.725),\n",
    "      (0.466, 0.725), (0.414, 0.725), (0.414, 0.673),\n",
    "      (0.414, 0.699), (0.414, 0.699)\n",
    "    ],\n",
    "    \"F13\": [\n",
    "      (0.414, 0.803), (0.414, 0.803), (0.414, 0.803),\n",
    "      (0.414, 0.803), (0.414, 0.803), (0.414, 0.777),\n",
    "      (0.414, 0.777), (0.414, 0.777), (0.466, 0.777),\n",
    "      (0.466, 0.777), (0.518, 0.829), (0.518, 0.829),\n",
    "      (0.518, 0.828), (0.466, 0.777)\n",
    "    ],\n",
    "    \"F15\": [\n",
    "      (0.414, 0.725), (0.414, 0.725), (0.518, 0.725),\n",
    "      (0.518, 0.725), (0.518, 0.725), (0.518, 0.725),\n",
    "      (0.518, 0.725), (0.518, 0.725), (0.518, 0.725),\n",
    "      (0.518, 0.725), (0.518, 0.725), (0.518, 0.777),\n",
    "      (0.518, 0.777), (0.518, 0.777), (0.518, 0.725),\n",
    "      (0.466, 0.725)\n",
    "    ],\n",
    "    \"F16\": [\n",
    "      (0.466, 0.751), (0.518, 0.803), (0.518, 0.829), \n",
    "      (0.518, 0.829), (0.518, 0.751), (0.518, 0.777), \n",
    "      (0.492, 0.725), (0.466, 0.777), (0.492, 0.777),  \n",
    "      (0.466, 0.751), (0.466, 0.751), (0.466, 0.751), \n",
    "      (0.466, 0.725), (0.466, 0.725), (0.466, 0.725), \n",
    "      (0.466, 0.725), (0.466, 0.725)\n",
    "    ],\n",
    "    \"F17\": [\n",
    "      (0.518, 0.725), (0.518, 0.725), (0.518, 0.725),\n",
    "      (0.518, 0.725), (0.518, 0.673), (0.466, 0.673),\n",
    "      (0.466, 0.673), (0.466, 0.673), (0.440, 0.647),\n",
    "      (0.440, 0.647), (0.440, 0.647), (0.414, 0.673),\n",
    "      (0.440, 0.621)\n",
    "    ],\n",
    "    \"F18\": [\n",
    "      (0.336, 0.621), (0.336, 0.621), (0.336, 0.621),\n",
    "      (0.336, 0.621), (0.310, 0.569), (0.310, 0.569),\n",
    "      (0.310, 0.569), (0.310, 0.569), (0.259, 0.518),\n",
    "      (0.259, 0.518), (0.310, 0.518), (0.310, 0.518), \n",
    "      (0.310, 0.518), (0.310, 0.569)\n",
    "    ],\n",
    "    \"F19\": [\n",
    "      (0.336, 0.595), (0.336, 0.595), (0.310, 0.569),\n",
    "      (0.310, 0.569), (0.259, 0.569), (0.259, 0.569),\n",
    "      (0.259, 0.569), (0.259, 0.621), (0.259, 0.621),\n",
    "      (0.233, 0.595), (0.233, 0.595), (0.233, 0.595), \n",
    "      (0.233, 0.595), (0.233, 0.595), (0.233, 0.595),\n",
    "      (0.207, 0.569), (0.155, 0.544), (0.105, 0.544), \n",
    "      (0.155, 0.544), (0.105, 0.544), (0.103, 0.492) \n",
    "    ],\n",
    "    \"F20\": [\n",
    "      (0.518, 0.880), (0.518, 0.880), (0.466, 0.880),\n",
    "      (0.466, 0.829), (0.466, 0.829), (0.466, 0.829),\n",
    "      (0.466, 0.829), (0.466, 0.829), (0.466, 0.829),\n",
    "      (0.414, 0.880), (0.414, 0.880), (0.414, 0.880),\n",
    "      (0.466, 0.880), (0.466, 0.880), (0.518, 0.829),\n",
    "      (0.518, 0.829), (0.518, 0.803), (0.466, 0.803),\n",
    "      (0.466, 0.880), (0.466, 0.880), (0.466, 0.829)\n",
    "    ],\n",
    "    \"F21\": [\n",
    "      (0.103, 0.569), (0.103, 0.569), (0.103, 0.569),\n",
    "      (0.103, 0.569), (0.103, 0.569), (0.103, 0.569),\n",
    "      (0.103, 0.569), (0.103, 0.569), (0.103, 0.569),\n",
    "      (0.103, 0.569), (0.103, 0.569), (0.103, 0.569), \n",
    "      (0.103, 0.569), (0.103, 0.569), (0.103, 0.569), \n",
    "      (0.103, 0.569), (0.103, 0.569)\n",
    "    ],\n",
    "    \"F22\": [\n",
    "      (0.362, 0.699), (0.362, 0.699), (0.362, 0.699),\n",
    "      (0.362, 0.699), (0.362, 0.699), (0.362, 0.777), \n",
    "      (0.362, 0.777), (0.362, 0.777), (0.362, 0.777), \n",
    "      (0.362, 0.777), (0.362, 0.803), (0.362, 0.803), \n",
    "      (0.414, 0.777), (0.414, 0.777), (0.362, 0.777), \n",
    "      (0.362, 0.777), (0.362, 0.777)\n",
    "    ],\n",
    "    \"F23\": [\n",
    "      (0.414, 0.829), (0.414, 0.829), (0.414, 0.829),\n",
    "      (0.388, 0.829), (0.388, 0.829), (0.388, 0.829),\n",
    "      (0.388, 0.829), (0.388, 0.829), (0.388, 0.829),\n",
    "      (0.388, 0.829), (0.388, 0.829), (0.388, 0.829),\n",
    "      (0.388, 0.829), (0.388, 0.829), (0.388, 0.829),\n",
    "      (0.388, 0.829), (0.388, 0.829), (0.388, 0.829),\n",
    "      (0.388, 0.829), (0.388, 0.829), (0.388, 0.829),\n",
    "      (0.388, 0.829), (0.388, 0.829)\n",
    "    ],\n",
    "    \"F24\": [\n",
    "      (0.466, 0.725), (0.466, 0.725), (0.466, 0.725),\n",
    "      (0.466, 0.725), (0.466, 0.725), (0.466, 0.725),\n",
    "      (0.466, 0.725), (0.466, 0.725), (0.466, 0.725),\n",
    "      (0.466, 0.673), (0.466, 0.673), (0.466, 0.673), \n",
    "      (0.466, 0.777), (0.518, 0.777), (0.518, 0.854),\n",
    "      (0.518, 0.829), (0.518, 0.829)\n",
    "    ]\n",
    "}\n",
    "\n",
    "os.makedirs(OUTPUT_PATCH_DIR, exist_ok=True)\n",
    "for seg in ROI_FRAC_LIST_PER_SEGMENT:\n",
    "    os.makedirs(os.path.join(OUTPUT_PATCH_DIR, seg), exist_ok=True)\n",
    "\n",
    "# helpers\n",
    "def to_float(r):\n",
    "    try: return float(r.numerator)/r.denominator\n",
    "    except: return float(r)\n",
    "\n",
    "def dms_to_dd(dms, ref):\n",
    "    d, m, s = dms\n",
    "    dd = float(d) + float(m)/60 + float(s)/3600\n",
    "    return -dd if ref in (\"S\",\"W\") else dd\n",
    "\n",
    "records = []\n",
    "\n",
    "# === 1. LOOP SEGMENTS ===\n",
    "for segment in sorted(os.listdir(SEASONS_RAW_DIR)):\n",
    "    seg_dir = os.path.join(SEASONS_RAW_DIR, segment)\n",
    "    if not os.path.isdir(seg_dir): continue\n",
    "\n",
    "    # get the per-image ROI list for this segment\n",
    "    roi_list = ROI_FRAC_LIST_PER_SEGMENT.get(segment, [])\n",
    "    if not roi_list:\n",
    "        raise RuntimeError(f\"No ROI_FRAC_LIST defined for segment {segment}\")\n",
    "\n",
    "    # list & sort image files\n",
    "    images = sorted([f for f in os.listdir(seg_dir) if f.lower().endswith(\".jpg\")])\n",
    "    if len(images) != len(roi_list):\n",
    "        raise RuntimeError(f\"Image count mismatch in {segment}: {len(images)} images vs {len(roi_list)} ROI entries\")\n",
    "\n",
    "    # process each image + ROI tuple\n",
    "    for idx, fname in enumerate(images):\n",
    "        img_path = os.path.join(seg_dir, fname)\n",
    "        x_min_frac, x_max_frac = roi_list[idx]\n",
    "\n",
    "        # extract photo_id from DJI_..._0007_D\n",
    "        base = os.path.splitext(fname)[0]\n",
    "        tokens = base.split(\"_\")              # e.g. [\"DJI\",\"20240730145602\",\"0007\",\"D\"]\n",
    "        raw_pid = tokens[-2]                  # now “0007”\n",
    "        photo_id = raw_pid         # → \"7\"\n",
    "\n",
    "        img = Image.open(img_path)\n",
    "        W, H = img.size\n",
    "        x0, x1 = int(W*x_min_frac), int(W*x_max_frac)\n",
    "\n",
    "        # --- EXIF once per image ---\n",
    "        raw_exif = img._getexif() or {}\n",
    "        gps_alt = None\n",
    "        exif = {}\n",
    "        for tag, val in raw_exif.items():\n",
    "            name = ExifTags.TAGS.get(tag, tag)\n",
    "            if name==\"GPSInfo\":\n",
    "                gps = {ExifTags.GPSTAGS.get(t,t):v for t,v in val.items()}\n",
    "                if \"GPSAltitude\" in gps:\n",
    "                    gps_alt = to_float(gps[\"GPSAltitude\"])\n",
    "                if \"GPSLatitude\" in gps and \"GPSLatitudeRef\" in gps:\n",
    "                    exif[\"latitude\"]  = dms_to_dd(gps[\"GPSLatitude\"], gps[\"GPSLatitudeRef\"])\n",
    "                if \"GPSLongitude\" in gps and \"GPSLongitudeRef\" in gps:\n",
    "                    exif[\"longitude\"] = dms_to_dd(gps[\"GPSLongitude\"],gps[\"GPSLongitudeRef\"])\n",
    "            if name==\"FocalLength\":\n",
    "                exif[\"focal_length_mm\"] = to_float(val)\n",
    "            if name==\"FocalLengthIn35mmFilm\":\n",
    "                exif[\"focal_length_35mm\"] = to_float(val)\n",
    "            if name==\"FNumber\":\n",
    "                exif[\"f_number\"] = to_float(val)\n",
    "            if name==\"ApertureValue\":\n",
    "                exif[\"aperture\"] = to_float(val)\n",
    "\n",
    "        flight_altitude = gps_alt if gps_alt is not None else np.nan\n",
    "\n",
    "        # === 2. SLIDE PATCH WINDOW ===\n",
    "        pid = 1\n",
    "        for y in range(0, H, PATCH_SIZE):\n",
    "            for x in range(x0, x1, PATCH_SIZE):\n",
    "                if x+PATCH_SIZE>W or y+PATCH_SIZE>H:\n",
    "                    continue\n",
    "                patch = img.crop((x,y,x+PATCH_SIZE,y+PATCH_SIZE))\n",
    "                fn = f\"{segment}_{photo_id}_patch_{pid}.jpg\"\n",
    "                print(\"Saving patch with filename:\", fn)    # ← this will show you each name\n",
    "                out_path = os.path.join(OUTPUT_PATCH_DIR, segment, fn)\n",
    "                patch.save(out_path)\n",
    "\n",
    "                arr = np.array(patch.convert(\"L\"))\n",
    "                rec = {\n",
    "                    \"patch_filename\": fn,\n",
    "                    \"season\":         SEASON,\n",
    "                    \"segment\":        segment,\n",
    "                    \"photo_id\":       photo_id,\n",
    "                    \"patch_id\":       pid,\n",
    "                    \"x_start\":        x,\n",
    "                    \"y_start\":        y,\n",
    "                    \"patch_size\":     PATCH_SIZE,\n",
    "                    \"flight_altitude\":flight_altitude,\n",
    "                    \"brightness_mean\":float(arr.mean()),\n",
    "                    \"brightness_std\": float(arr.std()),\n",
    "                }\n",
    "                # merge in EXIF fields if present\n",
    "                rec.update({\n",
    "                    \"latitude\":         exif.get(\"latitude\", np.nan),\n",
    "                    \"longitude\":        exif.get(\"longitude\",np.nan),\n",
    "                    \"aperture\":         exif.get(\"aperture\", np.nan),\n",
    "                    \"focal_length_mm\":  exif.get(\"focal_length_mm\", np.nan),\n",
    "                    \"f_number\":         exif.get(\"f_number\", np.nan),\n",
    "                    \"focal_length_35mm\":exif.get(\"focal_length_35mm\",np.nan),\n",
    "                })\n",
    "                records.append(rec)\n",
    "                pid += 1\n",
    "\n",
    "# === 3. SAVE METADATA CSV ===\n",
    "df = pd.DataFrame(records, columns=[\n",
    "    \"patch_filename\",\"season\",\"segment\",\"photo_id\",\"patch_id\",\n",
    "    \"x_start\",\"y_start\",\"patch_size\",\"flight_altitude\",\n",
    "    \"brightness_mean\",\"brightness_std\",\"latitude\",\"longitude\",\n",
    "    \"aperture\",\"focal_length_mm\",\"f_number\",\"focal_length_35mm\"\n",
    "])\n",
    "df.to_csv(METADATA_CSV, index=False)\n",
    "print(f\"Saved {len(df)} ROI patches metadata to {METADATA_CSV}\")"
   ]
  },
  {
   "cell_type": "markdown",
   "id": "6e18b175",
   "metadata": {},
   "source": [
    "## full inference July"
   ]
  },
  {
   "cell_type": "code",
   "execution_count": 8,
   "id": "9302080e",
   "metadata": {},
   "outputs": [
    {
     "name": "stdout",
     "output_type": "stream",
     "text": [
      "loading Roboflow workspace...\n",
      "loading Roboflow project...\n"
     ]
    },
    {
     "ename": "KeyboardInterrupt",
     "evalue": "",
     "output_type": "error",
     "traceback": [
      "\u001b[31m---------------------------------------------------------------------------\u001b[39m",
      "\u001b[31mKeyboardInterrupt\u001b[39m                         Traceback (most recent call last)",
      "\u001b[36mCell\u001b[39m\u001b[36m \u001b[39m\u001b[32mIn[8]\u001b[39m\u001b[32m, line 42\u001b[39m\n\u001b[32m     36\u001b[39m     records.append({\u001b[33m\"\u001b[39m\u001b[33mpatch_filename\u001b[39m\u001b[33m\"\u001b[39m: fn,\n\u001b[32m     37\u001b[39m                     \u001b[33m\"\u001b[39m\u001b[33msegment\u001b[39m\u001b[33m\"\u001b[39m: seg,\n\u001b[32m     38\u001b[39m                     \u001b[33m\"\u001b[39m\u001b[33mpred_label\u001b[39m\u001b[33m\"\u001b[39m: \u001b[38;5;28;01mNone\u001b[39;00m,\n\u001b[32m     39\u001b[39m                     \u001b[33m\"\u001b[39m\u001b[33mconfidence\u001b[39m\u001b[33m\"\u001b[39m:  \u001b[38;5;28;01mNone\u001b[39;00m})\n\u001b[32m     40\u001b[39m     \u001b[38;5;28;01mcontinue\u001b[39;00m\n\u001b[32m---> \u001b[39m\u001b[32m42\u001b[39m response = \u001b[43mmodel\u001b[49m\u001b[43m.\u001b[49m\u001b[43mpredict\u001b[49m\u001b[43m(\u001b[49m\u001b[43mfull_path\u001b[49m\u001b[43m)\u001b[49m.json().get(\u001b[33m\"\u001b[39m\u001b[33mpredictions\u001b[39m\u001b[33m\"\u001b[39m, [])\n\u001b[32m     43\u001b[39m \u001b[38;5;28;01mif\u001b[39;00m response:\n\u001b[32m     44\u001b[39m     top = response[\u001b[32m0\u001b[39m]\n",
      "\u001b[36mFile \u001b[39m\u001b[32mc:\\Users\\Sander\\OneDrive - UGent\\Semester_2\\Masterproef\\Thesis_ML\\venv\\Lib\\site-packages\\roboflow\\models\\classification.py:93\u001b[39m, in \u001b[36mClassificationModel.predict\u001b[39m\u001b[34m(self, image_path, hosted)\u001b[39m\n\u001b[32m     90\u001b[39m \u001b[38;5;66;03m# If image is local image\u001b[39;00m\n\u001b[32m     91\u001b[39m \u001b[38;5;28;01mif\u001b[39;00m \u001b[38;5;129;01mnot\u001b[39;00m hosted:\n\u001b[32m     92\u001b[39m     \u001b[38;5;66;03m# Open Image in RGB Format\u001b[39;00m\n\u001b[32m---> \u001b[39m\u001b[32m93\u001b[39m     image = \u001b[43mImage\u001b[49m\u001b[43m.\u001b[49m\u001b[43mopen\u001b[49m\u001b[43m(\u001b[49m\u001b[43mimage_path\u001b[49m\u001b[43m)\u001b[49m.convert(\u001b[33m\"\u001b[39m\u001b[33mRGB\u001b[39m\u001b[33m\"\u001b[39m)\n\u001b[32m     94\u001b[39m     \u001b[38;5;66;03m# Create buffer\u001b[39;00m\n\u001b[32m     95\u001b[39m     buffered = io.BytesIO()\n",
      "\u001b[36mFile \u001b[39m\u001b[32mc:\\Users\\Sander\\OneDrive - UGent\\Semester_2\\Masterproef\\Thesis_ML\\venv\\Lib\\site-packages\\PIL\\Image.py:3476\u001b[39m, in \u001b[36mopen\u001b[39m\u001b[34m(fp, mode, formats)\u001b[39m\n\u001b[32m   3473\u001b[39m     fp = io.BytesIO(fp.read())\n\u001b[32m   3474\u001b[39m     exclusive_fp = \u001b[38;5;28;01mTrue\u001b[39;00m\n\u001b[32m-> \u001b[39m\u001b[32m3476\u001b[39m prefix = \u001b[43mfp\u001b[49m\u001b[43m.\u001b[49m\u001b[43mread\u001b[49m\u001b[43m(\u001b[49m\u001b[32;43m16\u001b[39;49m\u001b[43m)\u001b[49m\n\u001b[32m   3478\u001b[39m preinit()\n\u001b[32m   3480\u001b[39m warning_messages: \u001b[38;5;28mlist\u001b[39m[\u001b[38;5;28mstr\u001b[39m] = []\n",
      "\u001b[31mKeyboardInterrupt\u001b[39m: "
     ]
    }
   ],
   "source": [
    "import os\n",
    "import pandas as pd\n",
    "from roboflow import Roboflow\n",
    "\n",
    "# ─── 0. CONFIG ────────────────────────────────────────────────────────\n",
    "METADATA_CSV = r\"C:\\Users\\Sander\\OneDrive - UGent\\Semester_2\\Masterproef\\Thesis_ML\\seasonal analysis\\Data_October\\metadata_October.csv\"\n",
    "PATCH_ROOT   = r\"C:\\Users\\Sander\\OneDrive - UGent\\Semester_2\\Masterproef\\Thesis_ML\\seasonal analysis\\Data_October\\Patches\"\n",
    "API_KEY      = \"KaFY1Sj9E0X8PCYUldK7\"\n",
    "PROJECT      = \"all_seasons_training\"\n",
    "VERSION      = 1\n",
    "OUTPUT_CSV   = r\"C:\\Users\\Sander\\OneDrive - UGent\\Semester_2\\Masterproef\\Thesis_ML\\seasonal analysis\\Data_October\\predictions_f19_to_f22.csv\"\n",
    "\n",
    "SEGMENTS_TO_RUN = [\"F19\",\"F20\",\"F21\",\"F22\"]\n",
    "# ─── 1. BUILD patch_filename → full_path map ─────────────────────────\n",
    "patch_map = {}\n",
    "for root, _, files in os.walk(PATCH_ROOT):\n",
    "    for fn in files:\n",
    "        if fn.lower().endswith((\".jpg\",\"jpeg\",\"png\")):\n",
    "            patch_map[fn] = os.path.join(root, fn)\n",
    "\n",
    "# ─── 2. LOAD full metadata (with segment) & filter to desired segments ──\n",
    "df_meta_full = pd.read_csv(METADATA_CSV)\n",
    "\n",
    "# keep only rows whose “segment” is in SEGMENTS_TO_RUN\n",
    "df_meta = df_meta_full[df_meta_full[\"segment\"].isin(SEGMENTS_TO_RUN)].reset_index(drop=True)\n",
    "\n",
    "rf    = Roboflow(api_key=API_KEY)\n",
    "model = rf.workspace().project(PROJECT).version(VERSION).model\n",
    "\n",
    "# ─── 3. RUN PREDICTIONS ────────────────────────────────────────────────\n",
    "records = []\n",
    "for fn, seg in zip(df_meta[\"patch_filename\"], df_meta[\"segment\"]):\n",
    "    full_path = patch_map.get(fn)\n",
    "    if full_path is None:\n",
    "        # couldn’t find that patch on disk\n",
    "        records.append({\"patch_filename\": fn,\n",
    "                        \"segment\": seg,\n",
    "                        \"pred_label\": None,\n",
    "                        \"confidence\":  None})\n",
    "        continue\n",
    "\n",
    "    response = model.predict(full_path).json().get(\"predictions\", [])\n",
    "    if response:\n",
    "        top = response[0]\n",
    "        records.append({\n",
    "            \"patch_filename\": fn,\n",
    "            \"segment\":        seg,\n",
    "            \"pred_label\":     top[\"top\"],\n",
    "            \"confidence\":     top[\"confidence\"]\n",
    "        })\n",
    "    else:\n",
    "        records.append({\n",
    "            \"patch_filename\": fn,\n",
    "            \"segment\":        seg,\n",
    "            \"pred_label\":     None,\n",
    "            \"confidence\":     None\n",
    "        })\n",
    "\n",
    "# ─── 4. SAVE RESULTS ─────────────────────────────────────────────────\n",
    "pd.DataFrame(records).to_csv(OUTPUT_CSV, index=False)\n",
    "print(f\"Saved {len(records)} predictions (only for {SEGMENTS_TO_RUN}) to {OUTPUT_CSV}\")\n"
   ]
  },
  {
   "cell_type": "markdown",
   "id": "89d269a3",
   "metadata": {},
   "source": [
    "## inference test F1"
   ]
  },
  {
   "cell_type": "code",
   "execution_count": null,
   "id": "b8d98f47",
   "metadata": {},
   "outputs": [],
   "source": [
    "import os\n",
    "import pandas as pd\n",
    "from roboflow import Roboflow\n",
    "\n",
    "# ─── 0. CONFIG ────────────────────────────────────────────────────────\n",
    "METADATA_CSV = r\"C:\\Users\\Sander\\OneDrive - UGent\\Semester_2\\Masterproef\\Thesis_ML\\seasonal analysis\\Data_July\\metadata_July.csv\"\n",
    "F1_PATCH_DIR = r\"C:\\Users\\Sander\\OneDrive - UGent\\Semester_2\\Masterproef\\Thesis_ML\\seasonal analysis\\Data_July\\Patches\\F9\"\n",
    "API_KEY      = \"KaFY1Sj9E0X8PCYUldK7\"\n",
    "PROJECT      = \"all_seasons_training\"\n",
    "VERSION      = 1\n",
    "OUTPUT_CSV   = r\"C:\\Users\\Sander\\OneDrive - UGent\\Semester_2\\Masterproef\\Thesis_ML\\seasonal analysis\\Data_July\\predictions_F9.csv\"\n",
    "\n",
    "# ─── 1. LOAD METADATA & FILTER TO F1 ─────────────────────────────────\n",
    "df_meta = pd.read_csv(METADATA_CSV)\n",
    "df_f1   = df_meta[df_meta[\"segment\"] == \"F9\"][[\"patch_filename\"]].drop_duplicates().reset_index(drop=True)\n",
    "\n",
    "# ─── 2. BUILD patch_filename → full_path map for F1 only ─────────────\n",
    "patch_map = {}\n",
    "for fn in os.listdir(F1_PATCH_DIR):\n",
    "    if fn.lower().endswith((\".jpg\",\"jpeg\",\"png\")):\n",
    "        patch_map[fn] = os.path.join(F1_PATCH_DIR, fn)\n",
    "\n",
    "# ─── 3. LOAD YOUR RF MODEL ───────────────────────────────────────────\n",
    "rf    = Roboflow(api_key=API_KEY)\n",
    "model = rf.workspace().project(PROJECT).version(VERSION).model\n",
    "\n",
    "# ─── 4. PREDICT ─────────────────────────────────────────────────────\n",
    "records = []\n",
    "for fn in df_f1[\"patch_filename\"]:\n",
    "    path = patch_map.get(fn)\n",
    "    if path is None:\n",
    "        records.append({\"patch_filename\": fn, \"pred_label\": None, \"confidence\": None})\n",
    "        continue\n",
    "\n",
    "    preds = model.predict(path).json().get(\"predictions\", [])\n",
    "    if preds:\n",
    "        top = preds[0]\n",
    "        records.append({\n",
    "            \"patch_filename\": fn,\n",
    "            \"pred_label\":     top[\"top\"],\n",
    "            \"confidence\":     top[\"confidence\"]\n",
    "        })\n",
    "    else:\n",
    "        records.append({\n",
    "            \"patch_filename\": fn,\n",
    "            \"pred_label\":     None,\n",
    "            \"confidence\":     None\n",
    "        })\n",
    "\n",
    "# ─── 5. SAVE ─────────────────────────────────────────────────────────\n",
    "pd.DataFrame(records).to_csv(OUTPUT_CSV, index=False)\n",
    "print(f\"Saved {len(records)} F1 predictions to {OUTPUT_CSV}\")\n"
   ]
  },
  {
   "cell_type": "markdown",
   "id": "00e85e45",
   "metadata": {},
   "source": [
    "## local model F1"
   ]
  },
  {
   "cell_type": "code",
   "execution_count": 3,
   "id": "e1d01921",
   "metadata": {},
   "outputs": [
    {
     "name": "stderr",
     "output_type": "stream",
     "text": [
      "Specified provider 'CUDAExecutionProvider' is not in available provider names.Available providers: 'AzureExecutionProvider, CPUExecutionProvider'\n",
      "Specified provider 'OpenVINOExecutionProvider' is not in available provider names.Available providers: 'AzureExecutionProvider, CPUExecutionProvider'\n",
      "Specified provider 'CoreMLExecutionProvider' is not in available provider names.Available providers: 'AzureExecutionProvider, CPUExecutionProvider'\n"
     ]
    },
    {
     "name": "stdout",
     "output_type": "stream",
     "text": [
      "\n",
      "▶ Processing segment F1…\n",
      "  3300 patches found in metadata for F1\n",
      "\n",
      "▶ Processing segment F2…\n",
      "  2280 patches found in metadata for F2\n",
      "\n",
      "▶ Processing segment F3…\n",
      "  4590 patches found in metadata for F3\n",
      "\n",
      "▶ Processing segment F8…\n",
      "  1800 patches found in metadata for F8\n",
      "\n",
      "▶ Processing segment F9…\n",
      "  6090 patches found in metadata for F9\n",
      "\n",
      "▶ Processing segment F13…\n",
      "  6240 patches found in metadata for F13\n",
      "\n",
      "▶ Processing segment F15…\n",
      "  4800 patches found in metadata for F15\n",
      "\n",
      "▶ Processing segment F16…\n",
      "  5910 patches found in metadata for F16\n",
      "\n",
      "▶ Processing segment F17…\n",
      "  3480 patches found in metadata for F17\n",
      "\n",
      "▶ Processing segment F18…\n",
      "  4560 patches found in metadata for F18\n",
      "\n",
      "▶ Processing segment F19…\n",
      "  9210 patches found in metadata for F19\n",
      "\n",
      "▶ Processing segment F20…\n",
      "  10110 patches found in metadata for F20\n",
      "\n",
      "▶ Processing segment F21…\n",
      "  10200 patches found in metadata for F21\n",
      "\n",
      "▶ Processing segment F22…\n",
      "  8460 patches found in metadata for F22\n",
      "\n",
      "▶ Processing segment F23…\n",
      "  13020 patches found in metadata for F23\n",
      "\n",
      "▶ Processing segment F24…\n",
      "  5700 patches found in metadata for F24\n",
      "\n",
      "✅ Saved 99750 total predictions to C:\\Users\\Sander\\OneDrive - UGent\\Semester_2\\Masterproef\\Thesis_ML\\seasonal analysis\\Data_October\\predictions_all_rf.csv\n"
     ]
    }
   ],
   "source": [
    "import os\n",
    "import pandas as pd\n",
    "import inference   # pip install inference\n",
    "\n",
    "# ─── 0. CONFIG ────────────────────────────────────────────────────────────────\n",
    "os.environ[\"ROBOFLOW_API_KEY\"] = \"KaFY1Sj9E0X8PCYUldK7\"\n",
    "MODEL_ID      = \"all_seasons_training/1\"\n",
    "PATCH_ROOT    = r\"C:\\Users\\Sander\\OneDrive - UGent\\Semester_2\\Masterproef\\Thesis_ML\\seasonal analysis\\Data_October\\Patches\"\n",
    "METADATA_CSV  = r\"C:\\Users\\Sander\\OneDrive - UGent\\Semester_2\\Masterproef\\Thesis_ML\\seasonal analysis\\Data_October\\metadata_October.csv\"\n",
    "OUTPUT_CSV    = r\"C:\\Users\\Sander\\OneDrive - UGent\\Semester_2\\Masterproef\\Thesis_ML\\seasonal analysis\\Data_October\\predictions_all_rf.csv\"\n",
    "\n",
    "# list only the segments you still need\n",
    "SEGMENTS = [\"F1\",\"F2\",\"F3\",\"F8\",\"F9\",\"F13\",\"F15\",\"F16\",\"F17\",\"F18\",\"F19\",\"F20\",\"F21\",\"F22\",\"F23\",\"F24\"]\n",
    "\n",
    "# ─── 1. LOAD METADATA ONCE ───────────────────────────────────────────────────\n",
    "df_meta = pd.read_csv(METADATA_CSV)\n",
    "\n",
    "# ─── 2. INSTANTIATE Roboflow INFERENCE CLIENT ONCE ───────────────────────────\n",
    "model = inference.get_model(MODEL_ID)\n",
    "\n",
    "# ─── 3. RUN INFERENCE OVER ALL SEGMENTS ─────────────────────────────────────\n",
    "all_records = []\n",
    "for seg in SEGMENTS:\n",
    "    print(f\"\\n▶ Processing segment {seg}…\")\n",
    "    patch_dir = os.path.join(PATCH_ROOT, seg)\n",
    "\n",
    "    # build filename → full_path map\n",
    "    patch_map = {\n",
    "        fn: os.path.join(patch_dir, fn)\n",
    "        for fn in os.listdir(patch_dir)\n",
    "        if fn.lower().endswith((\".jpg\",\"jpeg\",\"png\"))\n",
    "    }\n",
    "\n",
    "    # filter metadata to this segment\n",
    "    df_seg = df_meta[df_meta[\"segment\"] == seg]\n",
    "    print(f\"  {len(df_seg)} patches found in metadata for {seg}\")\n",
    "\n",
    "    for fn in df_seg[\"patch_filename\"]:\n",
    "        full_path = patch_map.get(fn)\n",
    "        if full_path is None:\n",
    "            # missing from disk\n",
    "            all_records.append({\n",
    "                \"segment\":       seg,\n",
    "                \"patch_filename\": fn,\n",
    "                \"pred_label\":     None,\n",
    "                \"confidence\":     None\n",
    "            })\n",
    "            continue\n",
    "\n",
    "        resp = model.infer(image=full_path)\n",
    "        # support both list‐style and object‐style responses\n",
    "        preds = resp if isinstance(resp, list) else getattr(resp, \"predictions\", []) or []\n",
    "\n",
    "        if preds:\n",
    "            top = preds[0]\n",
    "            # pull out label & confidence\n",
    "            if isinstance(top, dict):\n",
    "                label = top.get(\"class_name\", top.get(\"top\", None))\n",
    "                conf  = top.get(\"confidence\", None)\n",
    "            else:\n",
    "                label = getattr(top, \"class_name\", None) or getattr(top, \"top\", None)\n",
    "                conf  = getattr(top, \"confidence\", None)\n",
    "        else:\n",
    "            label, conf = None, None\n",
    "\n",
    "        all_records.append({\n",
    "            \"segment\":        seg,\n",
    "            \"patch_filename\": fn,\n",
    "            \"pred_label\":     label,\n",
    "            \"confidence\":     conf\n",
    "        })\n",
    "\n",
    "# ─── 4. SAVE EVERYTHING AT ONCE ───────────────────────────────────────────────\n",
    "out_df = pd.DataFrame(all_records)\n",
    "out_df.to_csv(OUTPUT_CSV, index=False)\n",
    "print(f\"\\n✅ Saved {len(out_df)} total predictions to {OUTPUT_CSV}\")\n"
   ]
  },
  {
   "cell_type": "markdown",
   "id": "9760328b",
   "metadata": {},
   "source": [
    "## make complete csv"
   ]
  },
  {
   "cell_type": "markdown",
   "id": "bb3260d2",
   "metadata": {},
   "source": [
    "### October"
   ]
  },
  {
   "cell_type": "code",
   "execution_count": 4,
   "id": "25b5ef5c",
   "metadata": {},
   "outputs": [],
   "source": [
    "import pandas as pd\n",
    "\n",
    "# Load the main and replacement predictions\n",
    "main_path = r\"C:\\Users\\Sander\\OneDrive - UGent\\Semester_2\\Masterproef\\Thesis_ML\\seasonal analysis\\Data_October\\predictions_all_rf.csv\"\n",
    "replacement_path = r\"C:\\Users\\Sander\\OneDrive - UGent\\Semester_2\\Masterproef\\Thesis_ML\\seasonal analysis\\Data_October\\predictions_f8_to_f18.csv\"\n",
    "\n",
    "main_df = pd.read_csv(main_path)\n",
    "replacement_df = pd.read_csv(replacement_path)\n",
    "\n",
    "# Extract segments to replace\n",
    "segments_to_replace = [\"F8\", \"F9\", \"F13\", \"F15\", \"F16\", \"F17\", \"F18\"]\n",
    "\n",
    "# Filter rows in the main dataframe that are in the replacement segments\n",
    "mask = main_df[\"segment\"].isin(segments_to_replace)\n",
    "\n",
    "# Replace matching rows by patch_filename\n",
    "main_df.set_index(\"patch_filename\", inplace=True)\n",
    "replacement_df.set_index(\"patch_filename\", inplace=True)\n",
    "\n",
    "# Update pred_label and confidence from replacement_df\n",
    "main_df.update(replacement_df[[\"pred_label\", \"confidence\"]])\n",
    "\n",
    "# Reset index\n",
    "main_df.reset_index(inplace=True)\n",
    "\n",
    "# Drop rows with confidence == 0\n",
    "main_df = main_df[main_df[\"confidence\"] != 0].reset_index(drop=True)\n",
    "\n",
    "# Save updated dataframe\n",
    "updated_path = r\"C:\\Users\\Sander\\OneDrive - UGent\\Semester_2\\Masterproef\\Thesis_ML\\seasonal analysis\\Data_October\\predictions_all_updated.csv\"\n",
    "main_df.to_csv(updated_path, index=False)\n"
   ]
  },
  {
   "cell_type": "markdown",
   "id": "873cc59e",
   "metadata": {},
   "source": [
    "### March"
   ]
  },
  {
   "cell_type": "code",
   "execution_count": null,
   "id": "debeb91d",
   "metadata": {},
   "outputs": [],
   "source": [
    "import pandas as pd\n",
    "\n",
    "# Load the individual prediction files\n",
    "files = [\n",
    "    r\"C:\\Users\\Sander\\OneDrive - UGent\\Semester_2\\Masterproef\\Thesis_ML\\seasonal analysis\\Data_March\\predictions_f1_f2_f3_f8_rf.csv\",\n",
    "    r\"C:\\Users\\Sander\\OneDrive - UGent\\Semester_2\\Masterproef\\Thesis_ML\\seasonal analysis\\Data_March\\predictions_f9_f13_rf.csv\",\n",
    "    r\"C:\\Users\\Sander\\OneDrive - UGent\\Semester_2\\Masterproef\\Thesis_ML\\seasonal analysis\\Data_March\\predictions_f15_rf.csv\",\n",
    "    r\"C:\\Users\\Sander\\OneDrive - UGent\\Semester_2\\Masterproef\\Thesis_ML\\seasonal analysis\\Data_March\\predictions_f16_to_f24_rf.csv\"\n",
    "]\n",
    "\n",
    "# Combine them into a single DataFrame\n",
    "combined_predictions = pd.concat([pd.read_csv(file) for file in files], ignore_index=True)\n",
    "\n",
    "# Save the combined DataFrame\n",
    "output_path = r\"C:\\Users\\Sander\\OneDrive - UGent\\Semester_2\\Masterproef\\Thesis_ML\\seasonal analysis\\Data_March\\predictions_all_combined_rf.csv\"\n",
    "combined_predictions.to_csv(output_path, index=False)\n",
    "\n"
   ]
  },
  {
   "cell_type": "code",
   "execution_count": 7,
   "id": "11c586c0",
   "metadata": {},
   "outputs": [],
   "source": [
    "import pandas as pd\n",
    "\n",
    "# Load the combined predictions file\n",
    "combined_path = r\"C:\\Users\\Sander\\OneDrive - UGent\\Semester_2\\Masterproef\\Thesis_ML\\seasonal analysis\\Data_March\\predictions_all_combined_rf.csv\"\n",
    "df_combined = pd.read_csv(combined_path)\n",
    "\n",
    "# Remove rows with confidence = 0\n",
    "df_filtered = df_combined[df_combined[\"confidence\"] != 0]\n",
    "\n",
    "# Save the filtered file\n",
    "filtered_path = r\"C:\\Users\\Sander\\OneDrive - UGent\\Semester_2\\Masterproef\\Thesis_ML\\seasonal analysis\\Data_March\\predictions_all_combined_rf_filtered.csv\"\n",
    "df_filtered.to_csv(filtered_path, index=False)"
   ]
  },
  {
   "cell_type": "markdown",
   "id": "d495463a",
   "metadata": {},
   "source": [
    "### July"
   ]
  },
  {
   "cell_type": "code",
   "execution_count": 16,
   "id": "8a738a13",
   "metadata": {},
   "outputs": [],
   "source": [
    "import pandas as pd\n",
    "import os\n",
    "\n",
    "files = [\n",
    "    r\"C:\\Users\\Sander\\OneDrive - UGent\\Semester_2\\Masterproef\\Thesis_ML\\seasonal analysis\\Data_July\\combined_predictions_single_column.csv\",\n",
    "    r\"C:\\Users\\Sander\\OneDrive - UGent\\Semester_2\\Masterproef\\Thesis_ML\\seasonal analysis\\Data_July\\predictions_all_segments_rf.csv\"\n",
    "]\n",
    "\n",
    "# Combine them into a single DataFrame\n",
    "combined_predictions = pd.concat([pd.read_csv(file) for file in files], ignore_index=True)\n",
    "\n",
    "# Save the combined DataFrame\n",
    "output_path = r\"C:\\Users\\Sander\\OneDrive - UGent\\Semester_2\\Masterproef\\Thesis_ML\\seasonal analysis\\Data_July\\predictions_final.csv\"\n",
    "combined_predictions.to_csv(output_path, index=False)\n"
   ]
  },
  {
   "cell_type": "code",
   "execution_count": 17,
   "id": "065745a9",
   "metadata": {},
   "outputs": [],
   "source": [
    "import pandas as pd\n",
    "\n",
    "# Load the combined predictions file\n",
    "combined_path = r\"C:\\Users\\Sander\\OneDrive - UGent\\Semester_2\\Masterproef\\Thesis_ML\\seasonal analysis\\Data_July\\predictions_final.csv\"\n",
    "df_combined = pd.read_csv(combined_path)\n",
    "\n",
    "# Remove rows with confidence = 0\n",
    "df_filtered = df_combined[df_combined[\"confidence\"] != 0]\n",
    "\n",
    "# Save the filtered file\n",
    "filtered_path = r\"C:\\Users\\Sander\\OneDrive - UGent\\Semester_2\\Masterproef\\Thesis_ML\\seasonal analysis\\Data_July\\predictions_final_filtered.csv\"\n",
    "df_filtered.to_csv(filtered_path, index=False)"
   ]
  },
  {
   "cell_type": "code",
   "execution_count": 23,
   "id": "b7c05385",
   "metadata": {},
   "outputs": [],
   "source": [
    "# Load the combined predictions file\n",
    "combined_path = r\"C:\\Users\\Sander\\OneDrive - UGent\\Semester_2\\Masterproef\\Thesis_ML\\seasonal analysis\\Data_July\\predictions_final_filtered.csv\"\n",
    "df_combined = pd.read_csv(combined_path)\n",
    "\n",
    "# Remove rows where confidence is missing (NaN)\n",
    "df_filtered = df_filtered[df_filtered[\"confidence\"].notna()]\n",
    "# Save the filtered file\n",
    "filtered_path = r\"C:\\Users\\Sander\\OneDrive - UGent\\Semester_2\\Masterproef\\Thesis_ML\\seasonal analysis\\Data_July\\predictions_final_filtered2.csv\"\n",
    "df_filtered.to_csv(filtered_path, index=False)"
   ]
  },
  {
   "cell_type": "markdown",
   "id": "4e5683e6",
   "metadata": {},
   "source": [
    "# analysis"
   ]
  },
  {
   "cell_type": "markdown",
   "id": "805c1b06",
   "metadata": {},
   "source": [
    "### class distribution per season (grouped bar plot)"
   ]
  },
  {
   "cell_type": "code",
   "execution_count": 27,
   "id": "62353d68",
   "metadata": {},
   "outputs": [],
   "source": [
    "import pandas as pd\n",
    "import matplotlib.pyplot as plt\n",
    "import os\n",
    "\n",
    "# File paths\n",
    "march_path = r\"C:\\Users\\Sander\\OneDrive - UGent\\Semester_2\\Masterproef\\Thesis_ML\\seasonal analysis\\Data_March\\predictions_all_combined_rf_filtered.csv\"\n",
    "july_path = r\"C:\\Users\\Sander\\OneDrive - UGent\\Semester_2\\Masterproef\\Thesis_ML\\seasonal analysis\\Data_July\\predictions_final_filtered.csv\"\n",
    "october_path = r\"C:\\Users\\Sander\\OneDrive - UGent\\Semester_2\\Masterproef\\Thesis_ML\\seasonal analysis\\Data_October\\predictions_all_updated.csv\"\n",
    "\n",
    "# Output directory\n",
    "out_dir = r\"C:\\Users\\Sander\\OneDrive - UGent\\Semester_2\\Masterproef\\Overleaf\\Final_figures\"\n",
    "os.makedirs(out_dir, exist_ok=True)\n",
    "\n",
    "# Load datasets\n",
    "df_march = pd.read_csv(march_path)\n",
    "df_july = pd.read_csv(july_path)\n",
    "df_october = pd.read_csv(october_path)\n",
    "\n",
    "# Assign season labels\n",
    "df_march[\"season\"] = \"March\"\n",
    "df_july[\"season\"] = \"July\"\n",
    "df_october[\"season\"] = \"October\"\n",
    "\n",
    "# Combine all into one DataFrame\n",
    "df_all = pd.concat([df_march, df_july, df_october], ignore_index=True)\n",
    "\n",
    "# Keep only necessary columns\n",
    "df = df_all[[\"season\", \"pred_label\"]]\n",
    "\n",
    "# Filter only valid classes\n",
    "valid_classes = [\"Clear Water\", \"Duckweed\", \"Water-starwort\", \"Common reed\"]\n",
    "df = df[df[\"pred_label\"].isin(valid_classes)]\n",
    "\n",
    "# Calculate relative proportions\n",
    "relative_props = (\n",
    "    df.groupby([\"season\", \"pred_label\"]).size()\n",
    "    .unstack(fill_value=0)\n",
    "    .pipe(lambda x: x.div(x.sum(axis=1), axis=0).mul(100))\n",
    ")\n",
    "\n",
    "# Define consistent order\n",
    "season_order = [\"March\", \"July\", \"October\"]\n",
    "class_order = [\"Clear Water\", \"Duckweed\", \"Water-starwort\", \"Common reed\"]\n",
    "relative_props = relative_props.loc[season_order, class_order]\n",
    "\n",
    "# Plotting\n",
    "import matplotlib.pyplot as plt\n",
    "\n",
    "fig, ax = plt.subplots(figsize=(8, 4.5))\n",
    "\n",
    "# Define custom colors\n",
    "colors = {\n",
    "    \"Clear Water\": \"#1f77b4\",        # Blue\n",
    "    \"Duckweed\": \"#9ACD32\",           # Yellow-green\n",
    "    \"Water-starwort\": \"#4CAF50\",     # Medium green\n",
    "    \"Common reed\": \"#006400\",        # Dark green\n",
    "}\n",
    "\n",
    "# Relative bar plot\n",
    "relative_props.plot(\n",
    "    kind='bar',\n",
    "    stacked=True,\n",
    "    ax=ax,\n",
    "    color=[colors[c] for c in class_order],\n",
    "    width=0.55,\n",
    "    edgecolor='black',\n",
    "    linewidth=0.5\n",
    ")\n",
    "\n",
    "ax.set_ylabel(\"Relative Abundance (%)\", fontsize=12, labelpad=10)\n",
    "ax.set_xlabel(\"Season\", fontsize=12, labelpad=10)\n",
    "ax.set_xticklabels(season_order, rotation=0, fontsize=11)\n",
    "ax.tick_params(axis='y', labelsize=11)\n",
    "ax.grid(axis='y', linestyle=':', linewidth=0.5)\n",
    "ax.set_axisbelow(True)\n",
    "\n",
    "# Legend placed neatly without overlapping bars\n",
    "ax.legend(title=\"Class\", bbox_to_anchor=(1.01, 1), loc=\"upper left\", frameon=False, fontsize=10)\n",
    "\n",
    "# Save figure\n",
    "output_path = r\"C:\\Users\\Sander\\OneDrive - UGent\\Semester_2\\Masterproef\\Overleaf\\Final_figures\\seasonal_class_distribution_absolute_relative_final.png\"\n",
    "plt.savefig(output_path, dpi=600, bbox_inches=\"tight\")\n",
    "plt.close()"
   ]
  },
  {
   "cell_type": "markdown",
   "id": "8d5e98e3",
   "metadata": {},
   "source": [
    "### relative abundance over time (% per class) (stacked bar chart or area chart)"
   ]
  },
  {
   "cell_type": "markdown",
   "id": "3beb9c93",
   "metadata": {},
   "source": [
    "### line plot: segments on x-axis, relative abundance on y-axis, 1 plot per class"
   ]
  },
  {
   "cell_type": "code",
   "execution_count": null,
   "id": "80beb45f",
   "metadata": {},
   "outputs": [
    {
     "data": {
      "text/plain": [
       "('C:\\\\Users\\\\Sander\\\\OneDrive - UGent\\\\Semester_2\\\\Masterproef\\\\Overleaf\\\\Final_figures\\\\seasonal_segment_distribution_stacked_bar.png',\n",
       " 'C:\\\\Users\\\\Sander\\\\OneDrive - UGent\\\\Semester_2\\\\Masterproef\\\\Overleaf\\\\Final_figures\\\\seasonal_segment_distribution_lines.png')"
      ]
     },
     "execution_count": 60,
     "metadata": {},
     "output_type": "execute_result"
    }
   ],
   "source": [
    "import pandas as pd\n",
    "import matplotlib.pyplot as plt\n",
    "import os\n",
    "\n",
    "# ─── CONFIG ────────────────────────────────────────────────────────────────────\n",
    "march_path = r\"C:\\Users\\Sander\\OneDrive - UGent\\Semester_2\\Masterproef\\Thesis_ML\\seasonal analysis\\Data_March\\predictions_all_combined_rf_filtered.csv\"\n",
    "july_path = r\"C:\\Users\\Sander\\OneDrive - UGent\\Semester_2\\Masterproef\\Thesis_ML\\seasonal analysis\\Data_July\\predictions_final_filtered.csv\"\n",
    "october_path = r\"C:\\Users\\Sander\\OneDrive - UGent\\Semester_2\\Masterproef\\Thesis_ML\\seasonal analysis\\Data_October\\predictions_all_updated.csv\"\n",
    "out_dir = r\"C:\\Users\\Sander\\OneDrive - UGent\\Semester_2\\Masterproef\\Overleaf\\Final_figures\"\n",
    "segments_order = [\"F1\", \"F2\", \"F3\", \"F8\", \"F9\", \"F13\", \"F15\", \"F16\", \"F17\", \"F18\", \"F19\", \"F20\", \"F21\", \"F22\", \"F23\", \"F24\"]\n",
    "\n",
    "# Desired classes and their colors\n",
    "class_colors = {\n",
    "    \"Clear Water\": \"#1f77b4\",        # blue\n",
    "    \"Duckweed\": \"#9ACD32\",           # yellow-green\n",
    "    \"Common reed\": \"#006400\",        # dark green\n",
    "    \"Water-starwort\": \"#228B22\"      # green\n",
    "}\n",
    "\n",
    "valid_classes = list(class_colors.keys())\n",
    "\n",
    "# ─── LOAD AND PREPROCESS DATA ──────────────────────────────────────────────────\n",
    "def load_and_label(path, season):\n",
    "    df = pd.read_csv(path)\n",
    "    df[\"season\"] = season\n",
    "    return df[[\"segment\", \"pred_label\", \"season\"]]\n",
    "\n",
    "df_march = load_and_label(march_path, \"March\")\n",
    "df_july = load_and_label(july_path, \"July\")\n",
    "df_october = load_and_label(october_path, \"October\")\n",
    "\n",
    "df_all = pd.concat([df_march, df_july, df_october], ignore_index=True)\n",
    "df_all = df_all[df_all[\"segment\"].isin(segments_order)]\n",
    "df_all = df_all[df_all[\"pred_label\"].isin(valid_classes)]\n",
    "\n",
    "# ─── GROUP AND PIVOT DATA FOR PLOTTING ────────────────────────────────────────\n",
    "# Group and normalize\n",
    "grouped = df_all.groupby([\"season\", \"segment\", \"pred_label\"]).size().reset_index(name=\"count\")\n",
    "grouped[\"total\"] = grouped.groupby([\"season\", \"segment\"])[\"count\"].transform(\"sum\")\n",
    "grouped[\"relative\"] = (grouped[\"count\"] / grouped[\"total\"]) * 100\n",
    "pivot_df = grouped.pivot_table(index=[\"season\", \"segment\"], columns=\"pred_label\", values=\"relative\", fill_value=0).reset_index()\n",
    "\n",
    "# Pivot for plotting\n",
    "pivot_df[\"segment\"] = pd.Categorical(pivot_df[\"segment\"], categories=segments_order, ordered=True)\n",
    "\n",
    "# ─── PLOT OPTION 1: STACKED BAR PER SEGMENT PER SEASON ────────────────────────\n",
    "fig1, axes = plt.subplots(nrows=3, figsize=(11, 9), sharex=True)\n",
    "seasons = [\"March\", \"July\", \"October\"]\n",
    "\n",
    "for i, season in enumerate(seasons):\n",
    "    season_df = pivot_df[pivot_df[\"season\"] == season].sort_values(\"segment\")\n",
    "    bottom = [0] * len(season_df)\n",
    "    x = season_df[\"segment\"]\n",
    "    for cls in valid_classes:\n",
    "        y = season_df[cls] if cls in season_df else [0]*len(season_df)\n",
    "        axes[i].bar(x, y, label=cls, bottom=bottom, color=class_colors[cls], edgecolor=\"black\", linewidth=0.4)\n",
    "        bottom = [b + v for b, v in zip(bottom, y)]\n",
    "    axes[i].set_ylabel(f\"{season}\", fontsize=11)\n",
    "    axes[i].set_ylim(0, 100)\n",
    "    axes[i].grid(axis='y', linestyle=':', linewidth=0.5)\n",
    "axes[-1].set_xlabel(\"Segment\", fontsize=12, labelpad=10)\n",
    "axes[0].legend(title=\"Class\", bbox_to_anchor=(1, 0.60), loc=\"upper right\")\n",
    "plt.tight_layout(rect=[0, 0, 0.85, 0.96])\n",
    "bar_path = os.path.join(out_dir, \"seasonal_segment_distribution_stacked_bar.png\")\n",
    "plt.savefig(bar_path, dpi=600, bbox_inches=\"tight\")\n",
    "plt.close()\n"
   ]
  },
  {
   "cell_type": "code",
   "execution_count": 24,
   "id": "e61ee510",
   "metadata": {},
   "outputs": [],
   "source": [
    "import pandas as pd\n",
    "import matplotlib.pyplot as plt\n",
    "import os\n",
    "from matplotlib.patches import Rectangle\n",
    "\n",
    "# ─── CONFIG ────────────────────────────────────────────────────────────────────\n",
    "march_path = r\"C:\\Users\\Sander\\OneDrive - UGent\\Semester_2\\Masterproef\\Thesis_ML\\seasonal analysis\\Data_March\\predictions_all_combined_rf_filtered.csv\"\n",
    "july_path = r\"C:\\Users\\Sander\\OneDrive - UGent\\Semester_2\\Masterproef\\Thesis_ML\\seasonal analysis\\Data_July\\predictions_final_filtered.csv\"\n",
    "october_path = r\"C:\\Users\\Sander\\OneDrive - UGent\\Semester_2\\Masterproef\\Thesis_ML\\seasonal analysis\\Data_October\\predictions_all_updated.csv\"\n",
    "out_dir = r\"C:\\Users\\Sander\\OneDrive - UGent\\Semester_2\\Masterproef\\Overleaf\\Final_figures\"\n",
    "segments_order = [\"F1\", \"F2\", \"F3\", \"F8\", \"F9\", \"F13\", \"F15\", \"F16\", \"F17\", \"F18\", \"F19\", \"F20\", \"F21\", \"F22\", \"F23\", \"F24\"]\n",
    "\n",
    "# Desired classes and their colors\n",
    "class_colors = {\n",
    "    \"Clear Water\": \"#1f77b4\",        # blue\n",
    "    \"Duckweed\": \"#9ACD32\",           # yellow-green\n",
    "    \"Common reed\": \"#006400\",        # dark green\n",
    "    \"Water-starwort\": \"#228B22\"      # green\n",
    "}\n",
    "\n",
    "valid_classes = list(class_colors.keys())\n",
    "\n",
    "# ─── LOAD AND PREPROCESS DATA ──────────────────────────────────────────────────\n",
    "def load_and_label(path, season):\n",
    "    df = pd.read_csv(path)\n",
    "    df[\"season\"] = season\n",
    "    return df[[\"segment\", \"pred_label\", \"season\"]]\n",
    "\n",
    "df_march = load_and_label(march_path, \"March\")\n",
    "df_july = load_and_label(july_path, \"July\")\n",
    "df_october = load_and_label(october_path, \"October\")\n",
    "\n",
    "df_all = pd.concat([df_march, df_july, df_october], ignore_index=True)\n",
    "df_all = df_all[df_all[\"segment\"].isin(segments_order)]\n",
    "df_all = df_all[df_all[\"pred_label\"].isin(valid_classes)]\n",
    "\n",
    "# ─── GROUP AND PIVOT DATA FOR PLOTTING ────────────────────────────────────────\n",
    "# Group and normalize\n",
    "grouped = df_all.groupby([\"season\", \"segment\", \"pred_label\"]).size().reset_index(name=\"count\")\n",
    "grouped[\"total\"] = grouped.groupby([\"season\", \"segment\"])[\"count\"].transform(\"sum\")\n",
    "grouped[\"relative\"] = (grouped[\"count\"] / grouped[\"total\"]) * 100\n",
    "pivot_df = grouped.pivot_table(index=[\"season\", \"segment\"], columns=\"pred_label\", values=\"relative\", fill_value=0).reset_index()\n",
    "\n",
    "# Pivot for plotting\n",
    "pivot_df[\"segment\"] = pd.Categorical(pivot_df[\"segment\"], categories=segments_order, ordered=True)\n",
    "# Plot again with highlights\n",
    "fig, axes = plt.subplots(nrows=3, figsize=(11, 9), sharex=True)\n",
    "seasons = [\"March\", \"July\", \"October\"]\n",
    "\n",
    "for i, season in enumerate(seasons):\n",
    "    season_df = pivot_df[pivot_df[\"season\"] == season].sort_values(\"segment\")\n",
    "    bottom = [0] * len(season_df)\n",
    "    x = season_df[\"segment\"]\n",
    "    for cls in valid_classes:\n",
    "        y = season_df[cls] if cls in season_df else [0]*len(season_df)\n",
    "        axes[i].bar(x, y, label=cls, bottom=bottom, color=class_colors[cls], edgecolor=\"black\", linewidth=0.4)\n",
    "        bottom = [b + v for b, v in zip(bottom, y)]\n",
    "    # Highlight key segments for clarity\n",
    "    if season == \"July\":\n",
    "        axes[i].add_patch(Rectangle((3.55, 1), 5.90, 98, fill=False, edgecolor='red', linewidth=2.5, linestyle='-'))\n",
    "        axes[i].add_patch(Rectangle((9.55, 1), 2.9, 98, fill=False, edgecolor='orange', linewidth=2.5, linestyle='-'))\n",
    "    if season == \"October\":\n",
    "        axes[i].add_patch(Rectangle((3.55, 1), 5.90, 98, fill=False, edgecolor='red', linewidth=2.5, linestyle='-'))\n",
    "        axes[i].add_patch(Rectangle((9.55, 1), 2.9, 98, fill=False, edgecolor='orange', linewidth=2.5, linestyle='-'))\n",
    "    axes[i].set_ylabel(f\"{season}\", fontsize=11)\n",
    "    axes[i].set_ylim(0, 100)\n",
    "    axes[i].grid(axis='y', linestyle=':', linewidth=0.5)\n",
    "\n",
    "axes[-1].set_xlabel(\"Segment\", fontsize=12, labelpad=10)\n",
    "axes[0].legend(title=\"Class\", bbox_to_anchor=(1, 0.60), loc=\"upper right\")\n",
    "plt.tight_layout(rect=[0, 0, 0.85, 0.96])\n",
    "highlighted_path = os.path.join(out_dir, \"seasonal_segment_distribution_highlighted.png\")\n",
    "plt.savefig(highlighted_path, dpi=600, bbox_inches=\"tight\")\n",
    "plt.close()"
   ]
  },
  {
   "cell_type": "code",
   "execution_count": null,
   "id": "8887013d",
   "metadata": {},
   "outputs": [],
   "source": [
    "import pandas as pd\n",
    "import matplotlib.pyplot as plt\n",
    "import os\n",
    "\n",
    "# ─── CONFIG ────────────────────────────────────────────────────────────────────\n",
    "march_path = r\"C:\\Users\\Sander\\OneDrive - UGent\\Semester_2\\Masterproef\\Thesis_ML\\seasonal analysis\\Data_March\\predictions_all_combined_rf_filtered.csv\"\n",
    "july_path = r\"C:\\Users\\Sander\\OneDrive - UGent\\Semester_2\\Masterproef\\Thesis_ML\\seasonal analysis\\Data_July\\predictions_final_filtered.csv\"\n",
    "october_path = r\"C:\\Users\\Sander\\OneDrive - UGent\\Semester_2\\Masterproef\\Thesis_ML\\seasonal analysis\\Data_October\\predictions_all_updated.csv\"\n",
    "out_dir = r\"C:\\Users\\Sander\\OneDrive - UGent\\Semester_2\\Masterproef\\Overleaf\\Final_figures\\segment_class_distribution2\"\n",
    "segments_to_include = [\"F1\",\"F2\",\"F3\",\"F8\",\"F9\",\"F13\",\"F15\",\"F16\",\"F17\",\"F18\",\"F19\",\"F20\",\"F21\",\"F22\",\"F23\",\"F24\"]\n",
    "\n",
    "# Desired classes and their colors\n",
    "class_colors = {\n",
    "    \"Clear Water\": \"#1f77b4\",        # blue\n",
    "    \"Duckweed\": \"#9ACD32\",           # yellow-green\n",
    "    \"Common reed\": \"#006400\",        # dark green\n",
    "    \"Water-starwort\": \"#228B22\"      # green\n",
    "}\n",
    "plot_colors = {\n",
    "    \"March\": \"#e41a1c\",    # red\n",
    "    \"July\": \"#377eb8\",     # blue\n",
    "    \"October\": \"#984ea3\"   # purple\n",
    "}\n",
    "\n",
    "valid_classes = list(class_colors.keys())\n",
    "segments_order = [\"F1\",\"F2\",\"F3\",\"F8\",\"F9\",\"F13\",\"F15\",\"F16\",\"F17\",\"F18\",\"F19\",\"F20\",\"F21\",\"F22\",\"F23\",\"F24\"]\n",
    "\n",
    "# ─── LOAD AND PREPROCESS DATA ──────────────────────────────────────────────────\n",
    "def load_and_label(path, season):\n",
    "    df = pd.read_csv(path)\n",
    "    df[\"season\"] = season\n",
    "    return df[[\"segment\", \"pred_label\", \"season\"]]\n",
    "\n",
    "df_march = load_and_label(march_path, \"March\")\n",
    "df_july = load_and_label(july_path, \"July\")\n",
    "df_october = load_and_label(october_path, \"October\")\n",
    "\n",
    "# Combine all predictions\n",
    "df_all = pd.concat([df_march, df_july, df_october], ignore_index=True)\n",
    "\n",
    "# Filter by valid segments and classes\n",
    "df_all = df_all[df_all[\"segment\"].isin(segments_to_include)]\n",
    "df_all = df_all[df_all[\"pred_label\"].isin(valid_classes)]\n",
    "\n",
    "\n",
    "grouped = df_all.groupby([\"season\", \"segment\", \"pred_label\"]).size().reset_index(name=\"count\")\n",
    "grouped[\"total\"] = grouped.groupby([\"season\", \"segment\"])[\"count\"].transform(\"sum\")\n",
    "grouped[\"relative\"] = (grouped[\"count\"] / grouped[\"total\"]) * 100\n",
    "\n",
    "# Pivot for plotting\n",
    "pivot_df = grouped.pivot_table(index=[\"season\", \"segment\"], columns=\"pred_label\", values=\"relative\", fill_value=0).reset_index()\n",
    "\n",
    "# Create 2x2 subplot grid\n",
    "fig, axs = plt.subplots(2, 2, figsize=(16, 9), sharex=True, sharey=True)\n",
    "axs = axs.flatten()\n",
    "x_vals = list(range(len(segments_order)))\n",
    "\n",
    "for idx, cls in enumerate(valid_classes):\n",
    "    ax = axs[idx]\n",
    "    for season in [\"March\", \"July\", \"October\"]:\n",
    "        season_df = pivot_df[pivot_df[\"season\"] == season].set_index(\"segment\").reindex(segments_order).reset_index()\n",
    "        ax.plot(x_vals, season_df[cls], label=season, marker=\"o\", color=plot_colors[season], linewidth=2, markersize=4)\n",
    "    ax.set_title(cls, fontsize=15, pad=12)\n",
    "    ax.set_ylim(0, 100)\n",
    "    ax.set_xticks(x_vals)\n",
    "    ax.set_xticklabels(segments_order, rotation=45)\n",
    "    ax.grid(axis='y', linestyle=':', linewidth=0.5)\n",
    "\n",
    "# Add a shared legend to the figure (using the first axis)\n",
    "handles, labels = axs[0].get_legend_handles_labels()\n",
    "fig.legend(handles, labels, title=\"Season\", loc=\"upper right\", fontsize=13, title_fontsize=14, frameon=True, bbox_to_anchor=(0.99, 0.95))\n",
    "\n",
    "\n",
    "axs[2].set_xlabel(\"Segment\", fontsize=12, labelpad=15)\n",
    "axs[3].set_xlabel(\"Segment\", fontsize=12, labelpad=15)\n",
    "axs[0].set_ylabel(\"Relative Abundance (%)\", fontsize=12, labelpad=15)\n",
    "axs[2].set_ylabel(\"Relative Abundance (%)\", fontsize=12, labelpad=15)\n",
    "\n",
    "# Shared legend\n",
    "# fig.legend(title=\"Season\", loc=\"upper right\", bbox_to_anchor=(0.5, 1.02), ncol=1)\n",
    "plt.tight_layout(h_pad=2.5, w_pad=2.5)  # add more horizontal & vertical padding\n",
    "plt.savefig(out_dir, dpi=600, bbox_inches=\"tight\")\n",
    "plt.close()"
   ]
  },
  {
   "cell_type": "code",
   "execution_count": 25,
   "id": "37efbffe",
   "metadata": {},
   "outputs": [],
   "source": [
    "import pandas as pd\n",
    "import matplotlib.pyplot as plt\n",
    "import os\n",
    "\n",
    "# ─── CONFIG ────────────────────────────────────────────────────────────────────\n",
    "march_path = r\"C:\\Users\\Sander\\OneDrive - UGent\\Semester_2\\Masterproef\\Thesis_ML\\seasonal analysis\\Data_March\\predictions_all_combined_rf_filtered.csv\"\n",
    "july_path = r\"C:\\Users\\Sander\\OneDrive - UGent\\Semester_2\\Masterproef\\Thesis_ML\\seasonal analysis\\Data_July\\predictions_final_filtered.csv\"\n",
    "october_path = r\"C:\\Users\\Sander\\OneDrive - UGent\\Semester_2\\Masterproef\\Thesis_ML\\seasonal analysis\\Data_October\\predictions_all_updated.csv\"\n",
    "out_dir = r\"C:\\Users\\Sander\\OneDrive - UGent\\Semester_2\\Masterproef\\Overleaf\\Final_figures\\try\"\n",
    "segments_to_include = [\"F1\",\"F2\",\"F3\",\"F8\",\"F9\",\"F13\",\"F15\",\"F16\",\"F17\",\"F18\",\"F19\",\"F20\",\"F21\",\"F22\",\"F23\",\"F24\"]\n",
    "\n",
    "# Desired classes and their colors\n",
    "class_colors = {\n",
    "    \"Clear Water\": \"#1f77b4\",        # blue\n",
    "    \"Duckweed\": \"#9ACD32\",           # yellow-green\n",
    "    \"Common reed\": \"#006400\",        # dark green\n",
    "    \"Water-starwort\": \"#228B22\"      # green\n",
    "}\n",
    "plot_colors = {\n",
    "    \"March\": \"#e41a1c\",    # red\n",
    "    \"July\": \"#377eb8\",     # blue\n",
    "    \"October\": \"#984ea3\"   # purple\n",
    "}\n",
    "\n",
    "valid_classes = list(class_colors.keys())\n",
    "segments_order = [\"F1\",\"F2\",\"F3\",\"F8\",\"F9\",\"F13\",\"F15\",\"F16\",\"F17\",\"F18\",\"F19\",\"F20\",\"F21\",\"F22\",\"F23\",\"F24\"]\n",
    "\n",
    "# ─── LOAD AND PREPROCESS DATA ──────────────────────────────────────────────────\n",
    "def load_and_label(path, season):\n",
    "    df = pd.read_csv(path)\n",
    "    df[\"season\"] = season\n",
    "    return df[[\"segment\", \"pred_label\", \"season\"]]\n",
    "\n",
    "df_march = load_and_label(march_path, \"March\")\n",
    "df_july = load_and_label(july_path, \"July\")\n",
    "df_october = load_and_label(october_path, \"October\")\n",
    "\n",
    "# Combine all predictions\n",
    "df_all = pd.concat([df_march, df_july, df_october], ignore_index=True)\n",
    "\n",
    "# Filter by valid segments and classes\n",
    "df_all = df_all[df_all[\"segment\"].isin(segments_to_include)]\n",
    "df_all = df_all[df_all[\"pred_label\"].isin(valid_classes)]\n",
    "\n",
    "\n",
    "grouped = df_all.groupby([\"season\", \"segment\", \"pred_label\"]).size().reset_index(name=\"count\")\n",
    "grouped[\"total\"] = grouped.groupby([\"season\", \"segment\"])[\"count\"].transform(\"sum\")\n",
    "grouped[\"relative\"] = (grouped[\"count\"] / grouped[\"total\"]) * 100\n",
    "\n",
    "# Pivot for plotting\n",
    "pivot_df = grouped.pivot_table(index=[\"season\", \"segment\"], columns=\"pred_label\", values=\"relative\", fill_value=0).reset_index()\n",
    "\n",
    "# Plot with highlights\n",
    "fig, axs = plt.subplots(2, 2, figsize=(16, 9), sharex=True, sharey=True)\n",
    "axs = axs.flatten()\n",
    "x_vals = list(range(len(segments_order)))\n",
    "\n",
    "for idx, cls in enumerate(valid_classes):\n",
    "    ax = axs[idx]\n",
    "    for season in [\"March\", \"July\", \"October\"]:\n",
    "        season_df = pivot_df[pivot_df[\"season\"] == season].set_index(\"segment\").reindex(segments_order).reset_index()\n",
    "        ax.plot(x_vals, season_df[cls], label=season, marker=\"o\", color=plot_colors[season], linewidth=2, markersize=4)\n",
    "    ax.set_title(cls, fontsize=15, pad=12)\n",
    "    ax.set_ylim(0, 100)\n",
    "    ax.set_xticks(x_vals)\n",
    "    ax.set_xticklabels(segments_order, rotation=45)\n",
    "    ax.tick_params(axis='x', labelbottom=True)\n",
    "    ax.grid(axis='y', linestyle=':', linewidth=0.5)\n",
    "\n",
    "# Highlight notable regions\n",
    "highlight_spans = {\n",
    "    \"Clear Water\": [(0, 2)],\n",
    "    \"Duckweed\": [(3, 9)],\n",
    "    \"Common reed\": [(6, 12)],\n",
    "    \"Water-starwort\": [(0, 2), (13, 15)]\n",
    "}\n",
    "highlight_color = \"orange\"\n",
    "\n",
    "for idx, cls in enumerate(valid_classes):\n",
    "    ax = axs[idx]\n",
    "    for start, end in highlight_spans.get(cls, []):\n",
    "        ax.axvspan(start, end, color=highlight_color, alpha=0.2)\n",
    "\n",
    "# Add a shared legend\n",
    "handles, labels = axs[0].get_legend_handles_labels()\n",
    "fig.legend(handles, labels, title=\"Season\", loc=\"upper right\", fontsize=13, title_fontsize=14, frameon=True, bbox_to_anchor=(0.99, 0.95))\n",
    "\n",
    "# Labels\n",
    "axs[2].set_xlabel(\"Segment\", fontsize=12, labelpad=15)\n",
    "axs[3].set_xlabel(\"Segment\", fontsize=12, labelpad=15)\n",
    "axs[0].set_ylabel(\"Relative Abundance (%)\", fontsize=12, labelpad=15)\n",
    "axs[2].set_ylabel(\"Relative Abundance (%)\", fontsize=12, labelpad=15)\n",
    "\n",
    "plt.tight_layout(h_pad=2.5, w_pad=2.5)\n",
    "plt.savefig(out_dir, dpi=600, bbox_inches=\"tight\")\n",
    "plt.close()\n"
   ]
  },
  {
   "cell_type": "markdown",
   "id": "f393a49f",
   "metadata": {},
   "source": [
    "### sankey diagram showing class transitions"
   ]
  },
  {
   "cell_type": "code",
   "execution_count": 61,
   "id": "97d20717",
   "metadata": {},
   "outputs": [
    {
     "data": {
      "application/vnd.plotly.v1+json": {
       "config": {
        "plotlyServerURL": "https://plot.ly"
       },
       "data": [
        {
         "link": {
          "source": {
           "bdata": "AAAAAAABAQEBAQICAgICAwMDAwMEBAQEBA==",
           "dtype": "i1"
          },
          "target": {
           "bdata": "AAECAwQAAQIDBAABAgMEAAECAwQAAQIDBA==",
           "dtype": "i1"
          },
          "value": {
           "bdata": "wABBADEAlAFcAMQBCgcMAAkGvwB6AfMBHwACBLgAKQO7A0cAEwqbAVYBZwETAHECTQE=",
           "dtype": "i2"
          }
         },
         "node": {
          "color": "lightblue",
          "label": [
           "Clear Water",
           "Common reed",
           "Duckweed",
           "Other",
           "Water-starwort"
          ],
          "line": {
           "color": "black",
           "width": 0.5
          },
          "pad": 15,
          "thickness": 20
         },
         "type": "sankey"
        }
       ],
       "layout": {
        "font": {
         "size": 12
        },
        "template": {
         "data": {
          "bar": [
           {
            "error_x": {
             "color": "#2a3f5f"
            },
            "error_y": {
             "color": "#2a3f5f"
            },
            "marker": {
             "line": {
              "color": "#E5ECF6",
              "width": 0.5
             },
             "pattern": {
              "fillmode": "overlay",
              "size": 10,
              "solidity": 0.2
             }
            },
            "type": "bar"
           }
          ],
          "barpolar": [
           {
            "marker": {
             "line": {
              "color": "#E5ECF6",
              "width": 0.5
             },
             "pattern": {
              "fillmode": "overlay",
              "size": 10,
              "solidity": 0.2
             }
            },
            "type": "barpolar"
           }
          ],
          "carpet": [
           {
            "aaxis": {
             "endlinecolor": "#2a3f5f",
             "gridcolor": "white",
             "linecolor": "white",
             "minorgridcolor": "white",
             "startlinecolor": "#2a3f5f"
            },
            "baxis": {
             "endlinecolor": "#2a3f5f",
             "gridcolor": "white",
             "linecolor": "white",
             "minorgridcolor": "white",
             "startlinecolor": "#2a3f5f"
            },
            "type": "carpet"
           }
          ],
          "choropleth": [
           {
            "colorbar": {
             "outlinewidth": 0,
             "ticks": ""
            },
            "type": "choropleth"
           }
          ],
          "contour": [
           {
            "colorbar": {
             "outlinewidth": 0,
             "ticks": ""
            },
            "colorscale": [
             [
              0,
              "#0d0887"
             ],
             [
              0.1111111111111111,
              "#46039f"
             ],
             [
              0.2222222222222222,
              "#7201a8"
             ],
             [
              0.3333333333333333,
              "#9c179e"
             ],
             [
              0.4444444444444444,
              "#bd3786"
             ],
             [
              0.5555555555555556,
              "#d8576b"
             ],
             [
              0.6666666666666666,
              "#ed7953"
             ],
             [
              0.7777777777777778,
              "#fb9f3a"
             ],
             [
              0.8888888888888888,
              "#fdca26"
             ],
             [
              1,
              "#f0f921"
             ]
            ],
            "type": "contour"
           }
          ],
          "contourcarpet": [
           {
            "colorbar": {
             "outlinewidth": 0,
             "ticks": ""
            },
            "type": "contourcarpet"
           }
          ],
          "heatmap": [
           {
            "colorbar": {
             "outlinewidth": 0,
             "ticks": ""
            },
            "colorscale": [
             [
              0,
              "#0d0887"
             ],
             [
              0.1111111111111111,
              "#46039f"
             ],
             [
              0.2222222222222222,
              "#7201a8"
             ],
             [
              0.3333333333333333,
              "#9c179e"
             ],
             [
              0.4444444444444444,
              "#bd3786"
             ],
             [
              0.5555555555555556,
              "#d8576b"
             ],
             [
              0.6666666666666666,
              "#ed7953"
             ],
             [
              0.7777777777777778,
              "#fb9f3a"
             ],
             [
              0.8888888888888888,
              "#fdca26"
             ],
             [
              1,
              "#f0f921"
             ]
            ],
            "type": "heatmap"
           }
          ],
          "histogram": [
           {
            "marker": {
             "pattern": {
              "fillmode": "overlay",
              "size": 10,
              "solidity": 0.2
             }
            },
            "type": "histogram"
           }
          ],
          "histogram2d": [
           {
            "colorbar": {
             "outlinewidth": 0,
             "ticks": ""
            },
            "colorscale": [
             [
              0,
              "#0d0887"
             ],
             [
              0.1111111111111111,
              "#46039f"
             ],
             [
              0.2222222222222222,
              "#7201a8"
             ],
             [
              0.3333333333333333,
              "#9c179e"
             ],
             [
              0.4444444444444444,
              "#bd3786"
             ],
             [
              0.5555555555555556,
              "#d8576b"
             ],
             [
              0.6666666666666666,
              "#ed7953"
             ],
             [
              0.7777777777777778,
              "#fb9f3a"
             ],
             [
              0.8888888888888888,
              "#fdca26"
             ],
             [
              1,
              "#f0f921"
             ]
            ],
            "type": "histogram2d"
           }
          ],
          "histogram2dcontour": [
           {
            "colorbar": {
             "outlinewidth": 0,
             "ticks": ""
            },
            "colorscale": [
             [
              0,
              "#0d0887"
             ],
             [
              0.1111111111111111,
              "#46039f"
             ],
             [
              0.2222222222222222,
              "#7201a8"
             ],
             [
              0.3333333333333333,
              "#9c179e"
             ],
             [
              0.4444444444444444,
              "#bd3786"
             ],
             [
              0.5555555555555556,
              "#d8576b"
             ],
             [
              0.6666666666666666,
              "#ed7953"
             ],
             [
              0.7777777777777778,
              "#fb9f3a"
             ],
             [
              0.8888888888888888,
              "#fdca26"
             ],
             [
              1,
              "#f0f921"
             ]
            ],
            "type": "histogram2dcontour"
           }
          ],
          "mesh3d": [
           {
            "colorbar": {
             "outlinewidth": 0,
             "ticks": ""
            },
            "type": "mesh3d"
           }
          ],
          "parcoords": [
           {
            "line": {
             "colorbar": {
              "outlinewidth": 0,
              "ticks": ""
             }
            },
            "type": "parcoords"
           }
          ],
          "pie": [
           {
            "automargin": true,
            "type": "pie"
           }
          ],
          "scatter": [
           {
            "fillpattern": {
             "fillmode": "overlay",
             "size": 10,
             "solidity": 0.2
            },
            "type": "scatter"
           }
          ],
          "scatter3d": [
           {
            "line": {
             "colorbar": {
              "outlinewidth": 0,
              "ticks": ""
             }
            },
            "marker": {
             "colorbar": {
              "outlinewidth": 0,
              "ticks": ""
             }
            },
            "type": "scatter3d"
           }
          ],
          "scattercarpet": [
           {
            "marker": {
             "colorbar": {
              "outlinewidth": 0,
              "ticks": ""
             }
            },
            "type": "scattercarpet"
           }
          ],
          "scattergeo": [
           {
            "marker": {
             "colorbar": {
              "outlinewidth": 0,
              "ticks": ""
             }
            },
            "type": "scattergeo"
           }
          ],
          "scattergl": [
           {
            "marker": {
             "colorbar": {
              "outlinewidth": 0,
              "ticks": ""
             }
            },
            "type": "scattergl"
           }
          ],
          "scattermap": [
           {
            "marker": {
             "colorbar": {
              "outlinewidth": 0,
              "ticks": ""
             }
            },
            "type": "scattermap"
           }
          ],
          "scattermapbox": [
           {
            "marker": {
             "colorbar": {
              "outlinewidth": 0,
              "ticks": ""
             }
            },
            "type": "scattermapbox"
           }
          ],
          "scatterpolar": [
           {
            "marker": {
             "colorbar": {
              "outlinewidth": 0,
              "ticks": ""
             }
            },
            "type": "scatterpolar"
           }
          ],
          "scatterpolargl": [
           {
            "marker": {
             "colorbar": {
              "outlinewidth": 0,
              "ticks": ""
             }
            },
            "type": "scatterpolargl"
           }
          ],
          "scatterternary": [
           {
            "marker": {
             "colorbar": {
              "outlinewidth": 0,
              "ticks": ""
             }
            },
            "type": "scatterternary"
           }
          ],
          "surface": [
           {
            "colorbar": {
             "outlinewidth": 0,
             "ticks": ""
            },
            "colorscale": [
             [
              0,
              "#0d0887"
             ],
             [
              0.1111111111111111,
              "#46039f"
             ],
             [
              0.2222222222222222,
              "#7201a8"
             ],
             [
              0.3333333333333333,
              "#9c179e"
             ],
             [
              0.4444444444444444,
              "#bd3786"
             ],
             [
              0.5555555555555556,
              "#d8576b"
             ],
             [
              0.6666666666666666,
              "#ed7953"
             ],
             [
              0.7777777777777778,
              "#fb9f3a"
             ],
             [
              0.8888888888888888,
              "#fdca26"
             ],
             [
              1,
              "#f0f921"
             ]
            ],
            "type": "surface"
           }
          ],
          "table": [
           {
            "cells": {
             "fill": {
              "color": "#EBF0F8"
             },
             "line": {
              "color": "white"
             }
            },
            "header": {
             "fill": {
              "color": "#C8D4E3"
             },
             "line": {
              "color": "white"
             }
            },
            "type": "table"
           }
          ]
         },
         "layout": {
          "annotationdefaults": {
           "arrowcolor": "#2a3f5f",
           "arrowhead": 0,
           "arrowwidth": 1
          },
          "autotypenumbers": "strict",
          "coloraxis": {
           "colorbar": {
            "outlinewidth": 0,
            "ticks": ""
           }
          },
          "colorscale": {
           "diverging": [
            [
             0,
             "#8e0152"
            ],
            [
             0.1,
             "#c51b7d"
            ],
            [
             0.2,
             "#de77ae"
            ],
            [
             0.3,
             "#f1b6da"
            ],
            [
             0.4,
             "#fde0ef"
            ],
            [
             0.5,
             "#f7f7f7"
            ],
            [
             0.6,
             "#e6f5d0"
            ],
            [
             0.7,
             "#b8e186"
            ],
            [
             0.8,
             "#7fbc41"
            ],
            [
             0.9,
             "#4d9221"
            ],
            [
             1,
             "#276419"
            ]
           ],
           "sequential": [
            [
             0,
             "#0d0887"
            ],
            [
             0.1111111111111111,
             "#46039f"
            ],
            [
             0.2222222222222222,
             "#7201a8"
            ],
            [
             0.3333333333333333,
             "#9c179e"
            ],
            [
             0.4444444444444444,
             "#bd3786"
            ],
            [
             0.5555555555555556,
             "#d8576b"
            ],
            [
             0.6666666666666666,
             "#ed7953"
            ],
            [
             0.7777777777777778,
             "#fb9f3a"
            ],
            [
             0.8888888888888888,
             "#fdca26"
            ],
            [
             1,
             "#f0f921"
            ]
           ],
           "sequentialminus": [
            [
             0,
             "#0d0887"
            ],
            [
             0.1111111111111111,
             "#46039f"
            ],
            [
             0.2222222222222222,
             "#7201a8"
            ],
            [
             0.3333333333333333,
             "#9c179e"
            ],
            [
             0.4444444444444444,
             "#bd3786"
            ],
            [
             0.5555555555555556,
             "#d8576b"
            ],
            [
             0.6666666666666666,
             "#ed7953"
            ],
            [
             0.7777777777777778,
             "#fb9f3a"
            ],
            [
             0.8888888888888888,
             "#fdca26"
            ],
            [
             1,
             "#f0f921"
            ]
           ]
          },
          "colorway": [
           "#636efa",
           "#EF553B",
           "#00cc96",
           "#ab63fa",
           "#FFA15A",
           "#19d3f3",
           "#FF6692",
           "#B6E880",
           "#FF97FF",
           "#FECB52"
          ],
          "font": {
           "color": "#2a3f5f"
          },
          "geo": {
           "bgcolor": "white",
           "lakecolor": "white",
           "landcolor": "#E5ECF6",
           "showlakes": true,
           "showland": true,
           "subunitcolor": "white"
          },
          "hoverlabel": {
           "align": "left"
          },
          "hovermode": "closest",
          "mapbox": {
           "style": "light"
          },
          "paper_bgcolor": "white",
          "plot_bgcolor": "#E5ECF6",
          "polar": {
           "angularaxis": {
            "gridcolor": "white",
            "linecolor": "white",
            "ticks": ""
           },
           "bgcolor": "#E5ECF6",
           "radialaxis": {
            "gridcolor": "white",
            "linecolor": "white",
            "ticks": ""
           }
          },
          "scene": {
           "xaxis": {
            "backgroundcolor": "#E5ECF6",
            "gridcolor": "white",
            "gridwidth": 2,
            "linecolor": "white",
            "showbackground": true,
            "ticks": "",
            "zerolinecolor": "white"
           },
           "yaxis": {
            "backgroundcolor": "#E5ECF6",
            "gridcolor": "white",
            "gridwidth": 2,
            "linecolor": "white",
            "showbackground": true,
            "ticks": "",
            "zerolinecolor": "white"
           },
           "zaxis": {
            "backgroundcolor": "#E5ECF6",
            "gridcolor": "white",
            "gridwidth": 2,
            "linecolor": "white",
            "showbackground": true,
            "ticks": "",
            "zerolinecolor": "white"
           }
          },
          "shapedefaults": {
           "line": {
            "color": "#2a3f5f"
           }
          },
          "ternary": {
           "aaxis": {
            "gridcolor": "white",
            "linecolor": "white",
            "ticks": ""
           },
           "baxis": {
            "gridcolor": "white",
            "linecolor": "white",
            "ticks": ""
           },
           "bgcolor": "#E5ECF6",
           "caxis": {
            "gridcolor": "white",
            "linecolor": "white",
            "ticks": ""
           }
          },
          "title": {
           "x": 0.05
          },
          "xaxis": {
           "automargin": true,
           "gridcolor": "white",
           "linecolor": "white",
           "ticks": "",
           "title": {
            "standoff": 15
           },
           "zerolinecolor": "white",
           "zerolinewidth": 2
          },
          "yaxis": {
           "automargin": true,
           "gridcolor": "white",
           "linecolor": "white",
           "ticks": "",
           "title": {
            "standoff": 15
           },
           "zerolinecolor": "white",
           "zerolinewidth": 2
          }
         }
        },
        "title": {
         "text": "Class Transitions from July to October"
        }
       }
      }
     },
     "metadata": {},
     "output_type": "display_data"
    }
   ],
   "source": [
    "import pandas as pd\n",
    "import matplotlib.pyplot as plt\n",
    "import os\n",
    "\n",
    "# ─── CONFIG ────────────────────────────────────────────────────────────────────\n",
    "july_path = r\"C:\\Users\\Sander\\OneDrive - UGent\\Semester_2\\Masterproef\\Thesis_ML\\seasonal analysis\\Data_July\\predictions_final_filtered.csv\"\n",
    "october_path = r\"C:\\Users\\Sander\\OneDrive - UGent\\Semester_2\\Masterproef\\Thesis_ML\\seasonal analysis\\Data_October\\predictions_all_updated.csv\"\n",
    "out_dir = r\"C:\\Users\\Sander\\OneDrive - UGent\\Semester_2\\Masterproef\\Overleaf\\Final_figures\\sankey\"\n",
    "\n",
    "# Read CSVs\n",
    "df_july = pd.read_csv(july_path)\n",
    "df_october = pd.read_csv(october_path)\n",
    "\n",
    "# Ensure consistent column names for merging\n",
    "df_july = df_july[[\"patch_filename\", \"pred_label\"]].rename(columns={\"pred_label\": \"label_july\"})\n",
    "df_october = df_october[[\"patch_filename\", \"pred_label\"]].rename(columns={\"pred_label\": \"label_october\"})\n",
    "\n",
    "# Merge on patch filename to track transitions\n",
    "df_merged = pd.merge(df_july, df_october, on=\"patch_filename\", how=\"inner\")\n",
    "\n",
    "# Check transition counts\n",
    "transition_counts = df_merged.groupby([\"label_july\", \"label_october\"]).size().reset_index(name=\"count\")\n",
    "\n",
    "import plotly.graph_objects as go\n",
    "\n",
    "# Prepare nodes and mapping\n",
    "all_labels = pd.unique(transition_counts[[\"label_july\", \"label_october\"]].values.ravel())\n",
    "label_to_idx = {label: idx for idx, label in enumerate(all_labels)}\n",
    "\n",
    "# Build Sankey components\n",
    "source = transition_counts[\"label_july\"].map(label_to_idx)\n",
    "target = transition_counts[\"label_october\"].map(label_to_idx)\n",
    "values = transition_counts[\"count\"]\n",
    "\n",
    "# Create Sankey diagram\n",
    "fig = go.Figure(data=[go.Sankey(\n",
    "    node=dict(\n",
    "        pad=15,\n",
    "        thickness=20,\n",
    "        line=dict(color=\"black\", width=0.5),\n",
    "        label=list(all_labels),\n",
    "        color=\"lightblue\"\n",
    "    ),\n",
    "    link=dict(\n",
    "        source=source,\n",
    "        target=target,\n",
    "        value=values\n",
    "    ))])\n",
    "\n",
    "fig.update_layout(title_text=\"Class Transitions from July to October\", font_size=12)\n"
   ]
  },
  {
   "cell_type": "code",
   "execution_count": 62,
   "id": "15a38676",
   "metadata": {},
   "outputs": [
    {
     "data": {
      "application/vnd.plotly.v1+json": {
       "config": {
        "plotlyServerURL": "https://plot.ly"
       },
       "data": [
        {
         "link": {
          "color": "lightblue",
          "source": [
           5,
           5,
           5,
           5,
           5,
           6,
           6,
           6,
           6,
           6,
           7,
           7,
           7,
           7,
           7,
           8,
           8,
           8,
           8,
           8,
           9,
           9,
           9,
           9,
           9
          ],
          "target": [
           5,
           6,
           7,
           8,
           9,
           5,
           6,
           7,
           8,
           9,
           5,
           6,
           7,
           8,
           9,
           5,
           6,
           7,
           8,
           9,
           5,
           6,
           7,
           8,
           9
          ],
          "value": [
           192,
           65,
           49,
           404,
           92,
           452,
           1802,
           12,
           1545,
           191,
           378,
           499,
           31,
           1026,
           184,
           809,
           955,
           71,
           2579,
           411,
           342,
           359,
           19,
           625,
           333
          ]
         },
         "node": {
          "color": "gray",
          "label": [
           "Clear Water",
           "Common reed",
           "Duckweed",
           "Other",
           "Water-starwort",
           "Clear Water",
           "Common reed",
           "Duckweed",
           "Other",
           "Water-starwort"
          ],
          "line": {
           "color": "black",
           "width": 0.5
          },
          "pad": 15,
          "thickness": 20
         },
         "type": "sankey"
        }
       ],
       "layout": {
        "font": {
         "size": 10
        },
        "template": {
         "data": {
          "bar": [
           {
            "error_x": {
             "color": "#2a3f5f"
            },
            "error_y": {
             "color": "#2a3f5f"
            },
            "marker": {
             "line": {
              "color": "#E5ECF6",
              "width": 0.5
             },
             "pattern": {
              "fillmode": "overlay",
              "size": 10,
              "solidity": 0.2
             }
            },
            "type": "bar"
           }
          ],
          "barpolar": [
           {
            "marker": {
             "line": {
              "color": "#E5ECF6",
              "width": 0.5
             },
             "pattern": {
              "fillmode": "overlay",
              "size": 10,
              "solidity": 0.2
             }
            },
            "type": "barpolar"
           }
          ],
          "carpet": [
           {
            "aaxis": {
             "endlinecolor": "#2a3f5f",
             "gridcolor": "white",
             "linecolor": "white",
             "minorgridcolor": "white",
             "startlinecolor": "#2a3f5f"
            },
            "baxis": {
             "endlinecolor": "#2a3f5f",
             "gridcolor": "white",
             "linecolor": "white",
             "minorgridcolor": "white",
             "startlinecolor": "#2a3f5f"
            },
            "type": "carpet"
           }
          ],
          "choropleth": [
           {
            "colorbar": {
             "outlinewidth": 0,
             "ticks": ""
            },
            "type": "choropleth"
           }
          ],
          "contour": [
           {
            "colorbar": {
             "outlinewidth": 0,
             "ticks": ""
            },
            "colorscale": [
             [
              0,
              "#0d0887"
             ],
             [
              0.1111111111111111,
              "#46039f"
             ],
             [
              0.2222222222222222,
              "#7201a8"
             ],
             [
              0.3333333333333333,
              "#9c179e"
             ],
             [
              0.4444444444444444,
              "#bd3786"
             ],
             [
              0.5555555555555556,
              "#d8576b"
             ],
             [
              0.6666666666666666,
              "#ed7953"
             ],
             [
              0.7777777777777778,
              "#fb9f3a"
             ],
             [
              0.8888888888888888,
              "#fdca26"
             ],
             [
              1,
              "#f0f921"
             ]
            ],
            "type": "contour"
           }
          ],
          "contourcarpet": [
           {
            "colorbar": {
             "outlinewidth": 0,
             "ticks": ""
            },
            "type": "contourcarpet"
           }
          ],
          "heatmap": [
           {
            "colorbar": {
             "outlinewidth": 0,
             "ticks": ""
            },
            "colorscale": [
             [
              0,
              "#0d0887"
             ],
             [
              0.1111111111111111,
              "#46039f"
             ],
             [
              0.2222222222222222,
              "#7201a8"
             ],
             [
              0.3333333333333333,
              "#9c179e"
             ],
             [
              0.4444444444444444,
              "#bd3786"
             ],
             [
              0.5555555555555556,
              "#d8576b"
             ],
             [
              0.6666666666666666,
              "#ed7953"
             ],
             [
              0.7777777777777778,
              "#fb9f3a"
             ],
             [
              0.8888888888888888,
              "#fdca26"
             ],
             [
              1,
              "#f0f921"
             ]
            ],
            "type": "heatmap"
           }
          ],
          "histogram": [
           {
            "marker": {
             "pattern": {
              "fillmode": "overlay",
              "size": 10,
              "solidity": 0.2
             }
            },
            "type": "histogram"
           }
          ],
          "histogram2d": [
           {
            "colorbar": {
             "outlinewidth": 0,
             "ticks": ""
            },
            "colorscale": [
             [
              0,
              "#0d0887"
             ],
             [
              0.1111111111111111,
              "#46039f"
             ],
             [
              0.2222222222222222,
              "#7201a8"
             ],
             [
              0.3333333333333333,
              "#9c179e"
             ],
             [
              0.4444444444444444,
              "#bd3786"
             ],
             [
              0.5555555555555556,
              "#d8576b"
             ],
             [
              0.6666666666666666,
              "#ed7953"
             ],
             [
              0.7777777777777778,
              "#fb9f3a"
             ],
             [
              0.8888888888888888,
              "#fdca26"
             ],
             [
              1,
              "#f0f921"
             ]
            ],
            "type": "histogram2d"
           }
          ],
          "histogram2dcontour": [
           {
            "colorbar": {
             "outlinewidth": 0,
             "ticks": ""
            },
            "colorscale": [
             [
              0,
              "#0d0887"
             ],
             [
              0.1111111111111111,
              "#46039f"
             ],
             [
              0.2222222222222222,
              "#7201a8"
             ],
             [
              0.3333333333333333,
              "#9c179e"
             ],
             [
              0.4444444444444444,
              "#bd3786"
             ],
             [
              0.5555555555555556,
              "#d8576b"
             ],
             [
              0.6666666666666666,
              "#ed7953"
             ],
             [
              0.7777777777777778,
              "#fb9f3a"
             ],
             [
              0.8888888888888888,
              "#fdca26"
             ],
             [
              1,
              "#f0f921"
             ]
            ],
            "type": "histogram2dcontour"
           }
          ],
          "mesh3d": [
           {
            "colorbar": {
             "outlinewidth": 0,
             "ticks": ""
            },
            "type": "mesh3d"
           }
          ],
          "parcoords": [
           {
            "line": {
             "colorbar": {
              "outlinewidth": 0,
              "ticks": ""
             }
            },
            "type": "parcoords"
           }
          ],
          "pie": [
           {
            "automargin": true,
            "type": "pie"
           }
          ],
          "scatter": [
           {
            "fillpattern": {
             "fillmode": "overlay",
             "size": 10,
             "solidity": 0.2
            },
            "type": "scatter"
           }
          ],
          "scatter3d": [
           {
            "line": {
             "colorbar": {
              "outlinewidth": 0,
              "ticks": ""
             }
            },
            "marker": {
             "colorbar": {
              "outlinewidth": 0,
              "ticks": ""
             }
            },
            "type": "scatter3d"
           }
          ],
          "scattercarpet": [
           {
            "marker": {
             "colorbar": {
              "outlinewidth": 0,
              "ticks": ""
             }
            },
            "type": "scattercarpet"
           }
          ],
          "scattergeo": [
           {
            "marker": {
             "colorbar": {
              "outlinewidth": 0,
              "ticks": ""
             }
            },
            "type": "scattergeo"
           }
          ],
          "scattergl": [
           {
            "marker": {
             "colorbar": {
              "outlinewidth": 0,
              "ticks": ""
             }
            },
            "type": "scattergl"
           }
          ],
          "scattermap": [
           {
            "marker": {
             "colorbar": {
              "outlinewidth": 0,
              "ticks": ""
             }
            },
            "type": "scattermap"
           }
          ],
          "scattermapbox": [
           {
            "marker": {
             "colorbar": {
              "outlinewidth": 0,
              "ticks": ""
             }
            },
            "type": "scattermapbox"
           }
          ],
          "scatterpolar": [
           {
            "marker": {
             "colorbar": {
              "outlinewidth": 0,
              "ticks": ""
             }
            },
            "type": "scatterpolar"
           }
          ],
          "scatterpolargl": [
           {
            "marker": {
             "colorbar": {
              "outlinewidth": 0,
              "ticks": ""
             }
            },
            "type": "scatterpolargl"
           }
          ],
          "scatterternary": [
           {
            "marker": {
             "colorbar": {
              "outlinewidth": 0,
              "ticks": ""
             }
            },
            "type": "scatterternary"
           }
          ],
          "surface": [
           {
            "colorbar": {
             "outlinewidth": 0,
             "ticks": ""
            },
            "colorscale": [
             [
              0,
              "#0d0887"
             ],
             [
              0.1111111111111111,
              "#46039f"
             ],
             [
              0.2222222222222222,
              "#7201a8"
             ],
             [
              0.3333333333333333,
              "#9c179e"
             ],
             [
              0.4444444444444444,
              "#bd3786"
             ],
             [
              0.5555555555555556,
              "#d8576b"
             ],
             [
              0.6666666666666666,
              "#ed7953"
             ],
             [
              0.7777777777777778,
              "#fb9f3a"
             ],
             [
              0.8888888888888888,
              "#fdca26"
             ],
             [
              1,
              "#f0f921"
             ]
            ],
            "type": "surface"
           }
          ],
          "table": [
           {
            "cells": {
             "fill": {
              "color": "#EBF0F8"
             },
             "line": {
              "color": "white"
             }
            },
            "header": {
             "fill": {
              "color": "#C8D4E3"
             },
             "line": {
              "color": "white"
             }
            },
            "type": "table"
           }
          ]
         },
         "layout": {
          "annotationdefaults": {
           "arrowcolor": "#2a3f5f",
           "arrowhead": 0,
           "arrowwidth": 1
          },
          "autotypenumbers": "strict",
          "coloraxis": {
           "colorbar": {
            "outlinewidth": 0,
            "ticks": ""
           }
          },
          "colorscale": {
           "diverging": [
            [
             0,
             "#8e0152"
            ],
            [
             0.1,
             "#c51b7d"
            ],
            [
             0.2,
             "#de77ae"
            ],
            [
             0.3,
             "#f1b6da"
            ],
            [
             0.4,
             "#fde0ef"
            ],
            [
             0.5,
             "#f7f7f7"
            ],
            [
             0.6,
             "#e6f5d0"
            ],
            [
             0.7,
             "#b8e186"
            ],
            [
             0.8,
             "#7fbc41"
            ],
            [
             0.9,
             "#4d9221"
            ],
            [
             1,
             "#276419"
            ]
           ],
           "sequential": [
            [
             0,
             "#0d0887"
            ],
            [
             0.1111111111111111,
             "#46039f"
            ],
            [
             0.2222222222222222,
             "#7201a8"
            ],
            [
             0.3333333333333333,
             "#9c179e"
            ],
            [
             0.4444444444444444,
             "#bd3786"
            ],
            [
             0.5555555555555556,
             "#d8576b"
            ],
            [
             0.6666666666666666,
             "#ed7953"
            ],
            [
             0.7777777777777778,
             "#fb9f3a"
            ],
            [
             0.8888888888888888,
             "#fdca26"
            ],
            [
             1,
             "#f0f921"
            ]
           ],
           "sequentialminus": [
            [
             0,
             "#0d0887"
            ],
            [
             0.1111111111111111,
             "#46039f"
            ],
            [
             0.2222222222222222,
             "#7201a8"
            ],
            [
             0.3333333333333333,
             "#9c179e"
            ],
            [
             0.4444444444444444,
             "#bd3786"
            ],
            [
             0.5555555555555556,
             "#d8576b"
            ],
            [
             0.6666666666666666,
             "#ed7953"
            ],
            [
             0.7777777777777778,
             "#fb9f3a"
            ],
            [
             0.8888888888888888,
             "#fdca26"
            ],
            [
             1,
             "#f0f921"
            ]
           ]
          },
          "colorway": [
           "#636efa",
           "#EF553B",
           "#00cc96",
           "#ab63fa",
           "#FFA15A",
           "#19d3f3",
           "#FF6692",
           "#B6E880",
           "#FF97FF",
           "#FECB52"
          ],
          "font": {
           "color": "#2a3f5f"
          },
          "geo": {
           "bgcolor": "white",
           "lakecolor": "white",
           "landcolor": "#E5ECF6",
           "showlakes": true,
           "showland": true,
           "subunitcolor": "white"
          },
          "hoverlabel": {
           "align": "left"
          },
          "hovermode": "closest",
          "mapbox": {
           "style": "light"
          },
          "paper_bgcolor": "white",
          "plot_bgcolor": "#E5ECF6",
          "polar": {
           "angularaxis": {
            "gridcolor": "white",
            "linecolor": "white",
            "ticks": ""
           },
           "bgcolor": "#E5ECF6",
           "radialaxis": {
            "gridcolor": "white",
            "linecolor": "white",
            "ticks": ""
           }
          },
          "scene": {
           "xaxis": {
            "backgroundcolor": "#E5ECF6",
            "gridcolor": "white",
            "gridwidth": 2,
            "linecolor": "white",
            "showbackground": true,
            "ticks": "",
            "zerolinecolor": "white"
           },
           "yaxis": {
            "backgroundcolor": "#E5ECF6",
            "gridcolor": "white",
            "gridwidth": 2,
            "linecolor": "white",
            "showbackground": true,
            "ticks": "",
            "zerolinecolor": "white"
           },
           "zaxis": {
            "backgroundcolor": "#E5ECF6",
            "gridcolor": "white",
            "gridwidth": 2,
            "linecolor": "white",
            "showbackground": true,
            "ticks": "",
            "zerolinecolor": "white"
           }
          },
          "shapedefaults": {
           "line": {
            "color": "#2a3f5f"
           }
          },
          "ternary": {
           "aaxis": {
            "gridcolor": "white",
            "linecolor": "white",
            "ticks": ""
           },
           "baxis": {
            "gridcolor": "white",
            "linecolor": "white",
            "ticks": ""
           },
           "bgcolor": "#E5ECF6",
           "caxis": {
            "gridcolor": "white",
            "linecolor": "white",
            "ticks": ""
           }
          },
          "title": {
           "x": 0.05
          },
          "xaxis": {
           "automargin": true,
           "gridcolor": "white",
           "linecolor": "white",
           "ticks": "",
           "title": {
            "standoff": 15
           },
           "zerolinecolor": "white",
           "zerolinewidth": 2
          },
          "yaxis": {
           "automargin": true,
           "gridcolor": "white",
           "linecolor": "white",
           "ticks": "",
           "title": {
            "standoff": 15
           },
           "zerolinecolor": "white",
           "zerolinewidth": 2
          }
         }
        },
        "title": {
         "text": "Vegetation Class Transitions: July to October"
        }
       }
      }
     },
     "metadata": {},
     "output_type": "display_data"
    },
    {
     "data": {
      "image/png": "[encoded data removed]",
      "text/plain": [
       "<Figure size 800x600 with 2 Axes>"
      ]
     },
     "metadata": {},
     "output_type": "display_data"
    }
   ],
   "source": [
    "import pandas as pd\n",
    "import matplotlib.pyplot as plt\n",
    "import plotly.graph_objects as go\n",
    "import os\n",
    "\n",
    "# Load data\n",
    "transition_matrix = pd.DataFrame({\n",
    "    \"Clear Water\":         [192, 452, 378, 809, 342],\n",
    "    \"Common reed\":         [65, 1802, 499, 955, 359],\n",
    "    \"Duckweed\":            [49, 12, 31, 71, 19],\n",
    "    \"Other\":               [404, 1545, 1026, 2579, 625],\n",
    "    \"Water-starwort\":      [92, 191, 184, 411, 333]\n",
    "}, index=[\"Clear Water\", \"Common reed\", \"Duckweed\", \"Other\", \"Water-starwort\"])\n",
    "\n",
    "# Create Sankey diagram\n",
    "source_labels = list(transition_matrix.index)\n",
    "target_labels = list(transition_matrix.columns)\n",
    "labels = source_labels + target_labels\n",
    "\n",
    "source_indices = []\n",
    "target_indices = []\n",
    "values = []\n",
    "\n",
    "label_to_index = {label: idx for idx, label in enumerate(labels)}\n",
    "\n",
    "for i, source in enumerate(source_labels):\n",
    "    for j, target in enumerate(target_labels):\n",
    "        value = transition_matrix.iloc[i, j]\n",
    "        if value > 0:\n",
    "            source_indices.append(label_to_index[source])\n",
    "            target_indices.append(label_to_index[target])\n",
    "            values.append(value)\n",
    "\n",
    "fig_sankey = go.Figure(data=[go.Sankey(\n",
    "    node=dict(\n",
    "        pad=15,\n",
    "        thickness=20,\n",
    "        line=dict(color=\"black\", width=0.5),\n",
    "        label=labels,\n",
    "        color=\"gray\"\n",
    "    ),\n",
    "    link=dict(\n",
    "        source=source_indices,\n",
    "        target=target_indices,\n",
    "        value=values,\n",
    "        color=\"lightblue\"\n",
    "    ))])\n",
    "\n",
    "fig_sankey.update_layout(title_text=\"Vegetation Class Transitions: July to October\", font_size=10)\n",
    "\n",
    "# Display Sankey\n",
    "fig_sankey.show()\n",
    "\n",
    "# Create static transition matrix plot using matplotlib\n",
    "import seaborn as sns\n",
    "import numpy as np\n",
    "import matplotlib.pyplot as plt\n",
    "\n",
    "fig, ax = plt.subplots(figsize=(8, 6))\n",
    "sns.heatmap(transition_matrix, annot=True, fmt=\"d\", cmap=\"viridis\", cbar=True,\n",
    "            linewidths=0.5, linecolor=\"white\", ax=ax)\n",
    "ax.set_title(\"Transition Matrix: July → October\", fontsize=13)\n",
    "ax.set_xlabel(\"October\", fontsize=11)\n",
    "ax.set_ylabel(\"July\", fontsize=11)\n",
    "plt.tight_layout()\n",
    "\n",
    "plt.show()\n"
   ]
  },
  {
   "cell_type": "markdown",
   "id": "ddcbd32e",
   "metadata": {},
   "source": [
    "### merch all data"
   ]
  },
  {
   "cell_type": "code",
   "execution_count": 26,
   "id": "5c3476cc",
   "metadata": {},
   "outputs": [],
   "source": [
    "import pandas as pd\n",
    "\n",
    "# Load predictions\n",
    "df_march = pd.read_csv(r\"C:\\Users\\Sander\\OneDrive - UGent\\Semester_2\\Masterproef\\Thesis_ML\\seasonal analysis\\Data_March\\metadata_March.csv\")      # e.g., metadata_March.csv\n",
    "df_preds_march = pd.read_csv(r\"C:\\Users\\Sander\\OneDrive - UGent\\Semester_2\\Masterproef\\Thesis_ML\\seasonal analysis\\Data_March\\predictions_all_combined_rf_filtered.csv\")  # e.g., predictions_march.csv\n",
    "df_march = df_preds_march.merge(df_march, on=\"patch_filename\")\n",
    "df_march[\"season\"] = \"March\"\n",
    "\n",
    "# Repeat for July\n",
    "df_july = pd.read_csv(r\"C:\\Users\\Sander\\OneDrive - UGent\\Semester_2\\Masterproef\\Thesis_ML\\seasonal analysis\\Data_July\\metadata_July.csv\")\n",
    "df_preds_july = pd.read_csv(r\"C:\\Users\\Sander\\OneDrive - UGent\\Semester_2\\Masterproef\\Thesis_ML\\seasonal analysis\\Data_July\\predictions_final_filtered.csv\")\n",
    "df_july = df_preds_july.merge(df_july, on=\"patch_filename\")\n",
    "df_july[\"season\"] = \"July\"\n",
    "\n",
    "# Repeat for October\n",
    "df_oct = pd.read_csv(r\"C:\\Users\\Sander\\OneDrive - UGent\\Semester_2\\Masterproef\\Thesis_ML\\seasonal analysis\\Data_October\\metadata_October.csv\")\n",
    "df_preds_oct = pd.read_csv(r\"C:\\Users\\Sander\\OneDrive - UGent\\Semester_2\\Masterproef\\Thesis_ML\\seasonal analysis\\Data_October\\predictions_all_updated.csv\")\n",
    "df_oct = df_preds_oct.merge(df_oct, on=\"patch_filename\")\n",
    "df_oct[\"season\"] = \"October\"\n",
    "\n",
    "# Combine all\n",
    "df = pd.concat([df_march, df_july, df_oct], ignore_index=True)\n",
    "\n"
   ]
  },
  {
   "cell_type": "code",
   "execution_count": 28,
   "id": "3c773512",
   "metadata": {},
   "outputs": [],
   "source": [
    "df = df.drop(columns=[\"segment_y\"]).rename(columns={\"segment_x\": \"segment\"})"
   ]
  },
  {
   "cell_type": "markdown",
   "id": "a99184ee",
   "metadata": {},
   "source": [
    "### heatmap of class x seasonal abundance"
   ]
  },
  {
   "cell_type": "code",
   "execution_count": 72,
   "id": "750c4930",
   "metadata": {},
   "outputs": [],
   "source": [
    "import seaborn as sns\n",
    "import matplotlib.pyplot as plt\n",
    "\n",
    "out_dir = r\"C:\\Users\\Sander\\OneDrive - UGent\\Semester_2\\Masterproef\\Overleaf\\Final_figures\"\n",
    "\n",
    "class_order = [\"Clear Water\", \"Duckweed\", \"Common reed\", \"Water-starwort\"]\n",
    "segments_order = [\"F1\",\"F2\",\"F3\",\"F8\",\"F9\",\"F13\",\"F15\",\"F16\",\"F17\",\"F18\",\"F19\",\"F20\",\"F21\",\"F22\",\"F23\",\"F24\"]\n",
    "\n",
    "df = df[df[\"pred_label\"].isin(class_order) & df[\"segment\"].isin(segments_order)]\n",
    "\n",
    "# Group and normalize\n",
    "grouped = df.groupby([\"season\", \"segment\", \"pred_label\"]).size().reset_index(name=\"count\")\n",
    "grouped[\"total\"] = grouped.groupby([\"season\", \"segment\"])[\"count\"].transform(\"sum\")\n",
    "grouped[\"relative\"] = grouped[\"count\"] / grouped[\"total\"] * 100\n",
    "\n",
    "# Create a single figure with subplots for each season\n",
    "fig, axes = plt.subplots(1, 3, figsize=(18, 5), sharey=True)\n",
    "\n",
    "for i, season in enumerate([\"March\", \"July\", \"October\"]):\n",
    "    season_df = grouped[grouped[\"season\"] == season]\n",
    "    pivot = season_df.pivot_table(index=\"pred_label\", columns=\"segment\", values=\"relative\", fill_value=0)\n",
    "    pivot = pivot.reindex(index=class_order, columns=segments_order)\n",
    "\n",
    "    sns.heatmap(\n",
    "        pivot, ax=axes[i], cmap=\"YlGnBu\", linewidths=0.3, linecolor=\"gray\",\n",
    "        cbar=(i == 2),  # Show colorbar only on the last plot\n",
    "        cbar_kws={'label': 'Relative Abundance (%)'} if i == 2 else None\n",
    "    )\n",
    "    axes[i].set_title(season, fontsize=14, pad=15)\n",
    "    axes[i].set_xlabel(\"Segment\", labelpad=10)\n",
    "    axes[i].set_xticklabels(axes[i].get_xticklabels(), rotation=45)\n",
    "    if i == 0:\n",
    "        axes[i].set_ylabel(\"Class\")\n",
    "    else:\n",
    "        axes[i].set_ylabel(\"\")\n",
    "\n",
    "plt.tight_layout()\n",
    "plt.savefig(os.path.join(out_dir, \"relative_abundance_heatmap_combined.png\"), dpi=600, bbox_inches=\"tight\")\n",
    "plt.close()\n"
   ]
  },
  {
   "cell_type": "code",
   "execution_count": 69,
   "id": "753f881e",
   "metadata": {},
   "outputs": [
    {
     "name": "stderr",
     "output_type": "stream",
     "text": [
      "C:\\Users\\Sander\\AppData\\Local\\Temp\\ipykernel_11952\\2101300168.py:57: UserWarning: This figure includes Axes that are not compatible with tight_layout, so results might be incorrect.\n",
      "  plt.tight_layout()\n"
     ]
    }
   ],
   "source": [
    "import seaborn as sns\n",
    "import matplotlib.pyplot as plt\n",
    "import matplotlib.gridspec as gridspec\n",
    "\n",
    "out_dir = r\"C:\\Users\\Sander\\OneDrive - UGent\\Semester_2\\Masterproef\\Overleaf\\Final_figures\"\n",
    "\n",
    "class_order = [\"Clear Water\", \"Duckweed\", \"Common reed\", \"Water-starwort\"]\n",
    "segments_order = [\"F1\",\"F2\",\"F3\",\"F8\",\"F9\",\"F13\",\"F15\",\"F16\",\"F17\",\"F18\",\"F19\",\"F20\",\"F21\",\"F22\",\"F23\",\"F24\"]\n",
    "\n",
    "df = df[df[\"pred_label\"].isin(class_order) & df[\"segment\"].isin(segments_order)]\n",
    "\n",
    "# Group and normalize\n",
    "grouped = df.groupby([\"season\", \"segment\", \"pred_label\"]).size().reset_index(name=\"count\")\n",
    "grouped[\"total\"] = grouped.groupby([\"season\", \"segment\"])[\"count\"].transform(\"sum\")\n",
    "grouped[\"relative\"] = grouped[\"count\"] / grouped[\"total\"] * 100\n",
    "\n",
    "# Create a single figure with subplots for each season\n",
    "fig = plt.figure(figsize=(21, 5.5))\n",
    "gs = gridspec.GridSpec(1, 4, width_ratios=[1, 1, 1, 0.05], wspace=0.05)\n",
    "axes = [fig.add_subplot(gs[i]) for i in range(3)]\n",
    "cbar_ax = fig.add_subplot(gs[3])\n",
    "\n",
    "for i, season in enumerate([\"March\", \"July\", \"October\"]):\n",
    "    season_df = grouped[grouped[\"season\"] == season]\n",
    "    pivot = season_df.pivot_table(index=\"pred_label\", columns=\"segment\", values=\"relative\", fill_value=0)\n",
    "    pivot = pivot.reindex(index=class_order, columns=segments_order)\n",
    "\n",
    "    sns.heatmap(\n",
    "        pivot,\n",
    "        ax=axes[i],\n",
    "        cmap=\"viridis\",\n",
    "        linewidths=0.3,\n",
    "        linecolor=\"gray\",\n",
    "        vmin=0,\n",
    "        vmax=100,\n",
    "        annot=True,\n",
    "        fmt=\".0f\",\n",
    "        annot_kws={\"fontsize\": 8},\n",
    "        cbar=(i == 2),\n",
    "        cbar_ax=cbar_ax if i == 2 else None,\n",
    "        cbar_kws={'label': 'Relative Abundance (%)'} if i == 2 else None\n",
    "    )\n",
    "\n",
    "    axes[i].set_title(season, fontsize=14, pad=15)\n",
    "    axes[i].set_xlabel(\"Segment\", labelpad=10)\n",
    "    axes[i].set_xticklabels(axes[i].get_xticklabels(), rotation=45, ha='right')\n",
    "\n",
    "    if i == 0:\n",
    "        axes[i].set_ylabel(\"Class\", labelpad=10, fontsize=12)\n",
    "    else:\n",
    "        axes[i].set_ylabel(\"\")\n",
    "        axes[i].tick_params(left=False)\n",
    "        axes[i].set_yticklabels([])  # <-- remove y-axis labels for July & October\n",
    "\n",
    "  \n",
    "\n",
    "plt.tight_layout()\n",
    "plt.savefig(os.path.join(out_dir, \"relative_abundance_heatmap_combined.png\"), dpi=600, bbox_inches=\"tight\")\n",
    "plt.close()\n"
   ]
  },
  {
   "cell_type": "markdown",
   "id": "c690bc40",
   "metadata": {},
   "source": [
    "## surface area per class"
   ]
  },
  {
   "cell_type": "code",
   "execution_count": 60,
   "id": "e6b2a61f",
   "metadata": {},
   "outputs": [
    {
     "name": "stdout",
     "output_type": "stream",
     "text": [
      "    Season  Total_Surface_Area_m2\n",
      "0     July           74954.113024\n",
      "1    March           78709.686272\n",
      "2  October           78362.869760\n"
     ]
    }
   ],
   "source": [
    "import pandas as pd\n",
    "import seaborn as sns\n",
    "import matplotlib.pyplot as plt\n",
    "import os\n",
    "\n",
    "# ─── CONFIG ────────────────────────────────────────────────────────────────────\n",
    "out_dir = r\"C:\\Users\\Sander\\OneDrive - UGent\\Semester_2\\Masterproef\\Overleaf\\Final_figures\"\n",
    "\n",
    "df[\"GSD\"] = 0.007\n",
    "df[\"area_m2\"] = (df[\"patch_size\"] ** 2) * (df[\"GSD\"] ** 2)\n",
    "\n",
    "class_order = [\"Clear Water\", \"Duckweed\", \"Common reed\", \"Water-starwort\"]\n",
    "season_order = [\"March\", \"July\", \"October\"]\n",
    "colors = {\n",
    "    \"Clear Water\": \"#1f77b4\",\n",
    "    \"Duckweed\": \"#9ACD32\",\n",
    "    \"Common reed\": \"#006400\",\n",
    "    \"Water-starwort\": \"#228B22\",\n",
    "    \"Other\": \"#4B2525\"\n",
    "}\n",
    "\n",
    "# ─── AGGREGATE TOTAL SURFACE AREA PER CLASS PER SEASON ────────────────────────\n",
    "df_filtered = df[df[\"pred_label\"].isin(class_order)]\n",
    "seasonal_surface = df_filtered.groupby([\"season\", \"pred_label\"])[\"area_m2\"].sum().reset_index()\n",
    "seasonal_surface[\"season\"] = pd.Categorical(seasonal_surface[\"season\"], categories=season_order, ordered=True)\n",
    "seasonal_surface = seasonal_surface.sort_values(\"season\")\n",
    "\n",
    "# Total surface area per season (across all classes and segments)\n",
    "total_area_per_season = df.groupby(\"season\")[\"area_m2\"].sum().reset_index()\n",
    "total_area_per_season.columns = [\"Season\", \"Total_Surface_Area_m2\"]\n",
    "print(total_area_per_season)\n",
    "\n",
    "# ─── PLOT ──────────────────────────────────────────────────────────────────────\n",
    "plt.figure(figsize=(9, 6))\n",
    "ax = sns.lineplot(\n",
    "    data=seasonal_surface,\n",
    "    x=\"season\", y=\"area_m2\", hue=\"pred_label\", marker=\"o\",\n",
    "    palette=colors, hue_order=class_order, linewidth=2, markersize=7\n",
    ")\n",
    "\n",
    "# Annotate with dynamic vertical offsets to avoid overlaps\n",
    "custom_offsets = {\n",
    "    (\"Clear Water\", \"March\"): 7,\n",
    "    (\"Clear Water\", \"July\"): -12,\n",
    "    (\"Clear Water\", \"October\"): 7,\n",
    "    (\"Duckweed\", \"March\"): -12,\n",
    "    (\"Duckweed\", \"July\"): 7,\n",
    "    (\"Duckweed\", \"October\"): 7,\n",
    "    (\"Common reed\", \"March\"): -3, \n",
    "    (\"Common reed\", \"July\"): 7,\n",
    "    (\"Common reed\", \"October\"): 7,\n",
    "    (\"Water-starwort\", \"March\"): 7,\n",
    "    (\"Water-starwort\", \"July\"): 7,\n",
    "    (\"Water-starwort\", \"October\"): 7,\n",
    "}\n",
    "\n",
    "\n",
    "for cls in class_order:\n",
    "    class_data = seasonal_surface[seasonal_surface[\"pred_label\"] == cls]\n",
    "    for _, row in class_data.iterrows():\n",
    "        season = row[\"season\"]\n",
    "        # Default offsets\n",
    "        x_offset = 0\n",
    "        if cls == \"Common reed\" and season == \"March\":\n",
    "            x_offset = -15  # move text slightly to the left\n",
    "        y_offset = custom_offsets.get((cls, season), 8)  # default offset = 8\n",
    "        ax.annotate(\n",
    "            f\"{int(row['area_m2']):,}\",\n",
    "            (season, row[\"area_m2\"]),\n",
    "            textcoords=\"offset points\", xytext=(x_offset, y_offset), ha='center',\n",
    "            fontsize=8, color=colors[cls]\n",
    "        )\n",
    "\n",
    "# Axis labels and style\n",
    "plt.xlabel(\"Season\", fontsize=12, labelpad=10)\n",
    "plt.ylabel(\"Total Surface Area (m²)\", fontsize=12, labelpad=10)\n",
    "plt.grid(True, linestyle=\":\", linewidth=0.5)\n",
    "plt.legend(title=\"Class\", loc=\"upper right\", bbox_to_anchor=(1, 1), fontsize=10, title_fontsize=11, frameon=True)\n",
    "plt.tight_layout()\n",
    "plt.savefig(os.path.join(out_dir, \"surface_area_per_class_over_seasons_annotated.png\"), dpi=600)\n",
    "plt.close()\n"
   ]
  }
 ],
 "metadata": {
  "kernelspec": {
   "display_name": "venv",
   "language": "python",
   "name": "python3"
  },
  "language_info": {
   "codemirror_mode": {
    "name": "ipython",
    "version": 3
   },
   "file_extension": ".py",
   "mimetype": "text/x-python",
   "name": "python",
   "nbconvert_exporter": "python",
   "pygments_lexer": "ipython3",
   "version": "3.12.7"
  }
 },
 "nbformat": 4,
 "nbformat_minor": 5
}
